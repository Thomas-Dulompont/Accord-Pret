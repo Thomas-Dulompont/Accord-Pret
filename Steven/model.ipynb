{
 "cells": [
  {
   "cell_type": "code",
   "execution_count": 279,
   "metadata": {},
   "outputs": [],
   "source": [
    "import numpy as np\n",
    "import pandas as pd\n",
    "import matplotlib.pyplot as plt\n",
    "\n",
    "from sklearn.model_selection import train_test_split,learning_curve\n",
    "\n",
    "pd.options.display.max_rows = 150\n",
    "pd.options.display.max_columns = 150"
   ]
  },
  {
   "cell_type": "code",
   "execution_count": 280,
   "metadata": {},
   "outputs": [],
   "source": [
    "df = pd.read_csv('../data/data_clear.csv')"
   ]
  },
  {
   "cell_type": "code",
   "execution_count": 281,
   "metadata": {},
   "outputs": [
    {
     "name": "stdout",
     "output_type": "stream",
     "text": [
      "<class 'pandas.core.frame.DataFrame'>\n",
      "RangeIndex: 881197 entries, 0 to 881196\n",
      "Data columns (total 16 columns):\n",
      " #   Column          Non-Null Count   Dtype  \n",
      "---  ------          --------------   -----  \n",
      " 0   City            881197 non-null  object \n",
      " 1   State           881197 non-null  object \n",
      " 2   BankState       881197 non-null  object \n",
      " 3   Term            881197 non-null  float64\n",
      " 4   NoEmp           881197 non-null  float64\n",
      " 5   NewExist        881197 non-null  object \n",
      " 6   CreateJob       881197 non-null  int64  \n",
      " 7   RetainedJob     881197 non-null  int64  \n",
      " 8   UrbanRural      881197 non-null  object \n",
      " 9   RevLineCr       881197 non-null  int64  \n",
      " 10  LowDoc          881197 non-null  int64  \n",
      " 11  GrAppv          881197 non-null  float64\n",
      " 12  is_default      881197 non-null  int64  \n",
      " 13  have_franchise  881197 non-null  int64  \n",
      " 14  sector          881197 non-null  object \n",
      " 15  in_recession    881197 non-null  int64  \n",
      "dtypes: float64(3), int64(7), object(6)\n",
      "memory usage: 107.6+ MB\n"
     ]
    }
   ],
   "source": [
    "df.info()"
   ]
  },
  {
   "cell_type": "code",
   "execution_count": 282,
   "metadata": {},
   "outputs": [
    {
     "data": {
      "text/html": [
       "<div>\n",
       "<style scoped>\n",
       "    .dataframe tbody tr th:only-of-type {\n",
       "        vertical-align: middle;\n",
       "    }\n",
       "\n",
       "    .dataframe tbody tr th {\n",
       "        vertical-align: top;\n",
       "    }\n",
       "\n",
       "    .dataframe thead th {\n",
       "        text-align: right;\n",
       "    }\n",
       "</style>\n",
       "<table border=\"1\" class=\"dataframe\">\n",
       "  <thead>\n",
       "    <tr style=\"text-align: right;\">\n",
       "      <th></th>\n",
       "      <th>City</th>\n",
       "      <th>State</th>\n",
       "      <th>BankState</th>\n",
       "      <th>Term</th>\n",
       "      <th>NoEmp</th>\n",
       "      <th>NewExist</th>\n",
       "      <th>CreateJob</th>\n",
       "      <th>RetainedJob</th>\n",
       "      <th>UrbanRural</th>\n",
       "      <th>RevLineCr</th>\n",
       "      <th>LowDoc</th>\n",
       "      <th>GrAppv</th>\n",
       "      <th>is_default</th>\n",
       "      <th>have_franchise</th>\n",
       "      <th>sector</th>\n",
       "      <th>in_recession</th>\n",
       "    </tr>\n",
       "  </thead>\n",
       "  <tbody>\n",
       "    <tr>\n",
       "      <th>0</th>\n",
       "      <td>EVANSVILLE</td>\n",
       "      <td>IN</td>\n",
       "      <td>OH</td>\n",
       "      <td>84.0</td>\n",
       "      <td>4.0</td>\n",
       "      <td>New</td>\n",
       "      <td>0</td>\n",
       "      <td>0</td>\n",
       "      <td>Undefined</td>\n",
       "      <td>0</td>\n",
       "      <td>1</td>\n",
       "      <td>60000.0</td>\n",
       "      <td>0</td>\n",
       "      <td>0</td>\n",
       "      <td>Retail trade</td>\n",
       "      <td>0</td>\n",
       "    </tr>\n",
       "    <tr>\n",
       "      <th>1</th>\n",
       "      <td>NEW PARIS</td>\n",
       "      <td>IN</td>\n",
       "      <td>IN</td>\n",
       "      <td>60.0</td>\n",
       "      <td>2.0</td>\n",
       "      <td>New</td>\n",
       "      <td>0</td>\n",
       "      <td>0</td>\n",
       "      <td>Undefined</td>\n",
       "      <td>0</td>\n",
       "      <td>1</td>\n",
       "      <td>40000.0</td>\n",
       "      <td>0</td>\n",
       "      <td>0</td>\n",
       "      <td>Accommodation and food services</td>\n",
       "      <td>0</td>\n",
       "    </tr>\n",
       "    <tr>\n",
       "      <th>2</th>\n",
       "      <td>BLOOMINGTON</td>\n",
       "      <td>IN</td>\n",
       "      <td>IN</td>\n",
       "      <td>180.0</td>\n",
       "      <td>7.0</td>\n",
       "      <td>Existing</td>\n",
       "      <td>0</td>\n",
       "      <td>0</td>\n",
       "      <td>Undefined</td>\n",
       "      <td>0</td>\n",
       "      <td>0</td>\n",
       "      <td>287000.0</td>\n",
       "      <td>0</td>\n",
       "      <td>0</td>\n",
       "      <td>Health care and social assistance</td>\n",
       "      <td>0</td>\n",
       "    </tr>\n",
       "    <tr>\n",
       "      <th>3</th>\n",
       "      <td>BROKEN ARROW</td>\n",
       "      <td>OK</td>\n",
       "      <td>OK</td>\n",
       "      <td>60.0</td>\n",
       "      <td>2.0</td>\n",
       "      <td>Existing</td>\n",
       "      <td>0</td>\n",
       "      <td>0</td>\n",
       "      <td>Undefined</td>\n",
       "      <td>0</td>\n",
       "      <td>1</td>\n",
       "      <td>35000.0</td>\n",
       "      <td>0</td>\n",
       "      <td>0</td>\n",
       "      <td>Sector not known</td>\n",
       "      <td>0</td>\n",
       "    </tr>\n",
       "    <tr>\n",
       "      <th>4</th>\n",
       "      <td>ORLANDO</td>\n",
       "      <td>FL</td>\n",
       "      <td>FL</td>\n",
       "      <td>240.0</td>\n",
       "      <td>14.0</td>\n",
       "      <td>Existing</td>\n",
       "      <td>7</td>\n",
       "      <td>7</td>\n",
       "      <td>Undefined</td>\n",
       "      <td>0</td>\n",
       "      <td>0</td>\n",
       "      <td>229000.0</td>\n",
       "      <td>0</td>\n",
       "      <td>0</td>\n",
       "      <td>Sector not known</td>\n",
       "      <td>0</td>\n",
       "    </tr>\n",
       "  </tbody>\n",
       "</table>\n",
       "</div>"
      ],
      "text/plain": [
       "           City State BankState   Term  NoEmp  NewExist  CreateJob  \\\n",
       "0    EVANSVILLE    IN        OH   84.0    4.0       New          0   \n",
       "1     NEW PARIS    IN        IN   60.0    2.0       New          0   \n",
       "2   BLOOMINGTON    IN        IN  180.0    7.0  Existing          0   \n",
       "3  BROKEN ARROW    OK        OK   60.0    2.0  Existing          0   \n",
       "4       ORLANDO    FL        FL  240.0   14.0  Existing          7   \n",
       "\n",
       "   RetainedJob UrbanRural  RevLineCr  LowDoc    GrAppv  is_default  \\\n",
       "0            0  Undefined          0       1   60000.0           0   \n",
       "1            0  Undefined          0       1   40000.0           0   \n",
       "2            0  Undefined          0       0  287000.0           0   \n",
       "3            0  Undefined          0       1   35000.0           0   \n",
       "4            7  Undefined          0       0  229000.0           0   \n",
       "\n",
       "   have_franchise                             sector  in_recession  \n",
       "0               0                       Retail trade             0  \n",
       "1               0    Accommodation and food services             0  \n",
       "2               0  Health care and social assistance             0  \n",
       "3               0                   Sector not known             0  \n",
       "4               0                   Sector not known             0  "
      ]
     },
     "execution_count": 282,
     "metadata": {},
     "output_type": "execute_result"
    }
   ],
   "source": [
    "df.head()"
   ]
  },
  {
   "cell_type": "code",
   "execution_count": 283,
   "metadata": {},
   "outputs": [
    {
     "data": {
      "text/plain": [
       "Index(['City', 'State', 'BankState', 'Term', 'NoEmp', 'NewExist', 'CreateJob',\n",
       "       'RetainedJob', 'UrbanRural', 'RevLineCr', 'LowDoc', 'GrAppv',\n",
       "       'is_default', 'have_franchise', 'sector', 'in_recession'],\n",
       "      dtype='object')"
      ]
     },
     "execution_count": 283,
     "metadata": {},
     "output_type": "execute_result"
    }
   ],
   "source": [
    "df.columns"
   ]
  },
  {
   "cell_type": "code",
   "execution_count": 284,
   "metadata": {},
   "outputs": [],
   "source": [
    "X = df.drop(['City', 'CreateJob','RetainedJob', 'RevLineCr',\"is_default\"], axis=1)\n",
    "y = df['is_default']\n",
    "X_train, X_test, y_train, y_test = train_test_split(X, y, train_size=0.9, shuffle=True,stratify=y, random_state=42)"
   ]
  },
  {
   "cell_type": "code",
   "execution_count": 285,
   "metadata": {},
   "outputs": [],
   "source": [
    "numeric_features = [\"Term\",\"NoEmp\",\"GrAppv\"]\n",
    "categorial_features = [\"State\",\"BankState\", \"LowDoc\",\"NewExist\",\"UrbanRural\",\"sector\", 'have_franchise', 'in_recession']"
   ]
  },
  {
   "cell_type": "code",
   "execution_count": 286,
   "metadata": {},
   "outputs": [],
   "source": [
    "from sklearn.pipeline import Pipeline,make_pipeline\n",
    "from sklearn.preprocessing import OneHotEncoder,PolynomialFeatures\n",
    "\n",
    "categorical_transformer = OneHotEncoder(handle_unknown=\"ignore\")"
   ]
  },
  {
   "cell_type": "code",
   "execution_count": 287,
   "metadata": {},
   "outputs": [],
   "source": [
    "from sklearn.compose import ColumnTransformer\n",
    "preprocessor = ColumnTransformer(\n",
    "    transformers=[\n",
    "        ('cat', categorical_transformer, categorial_features)\n",
    "    ]\n",
    "   , remainder=\"passthrough\" \n",
    ")"
   ]
  },
  {
   "cell_type": "code",
   "execution_count": 288,
   "metadata": {},
   "outputs": [],
   "source": [
    "from sklearn.dummy import DummyClassifier\n",
    "dummy = DummyClassifier()\n",
    "pipe_dummy = Pipeline([\n",
    "     ('preprocessor', preprocessor),\n",
    "     ('dummy', dummy)\n",
    "])"
   ]
  },
  {
   "cell_type": "code",
   "execution_count": 289,
   "metadata": {},
   "outputs": [
    {
     "data": {
      "text/plain": [
       "793077"
      ]
     },
     "execution_count": 289,
     "metadata": {},
     "output_type": "execute_result"
    }
   ],
   "source": [
    "len(y_train)"
   ]
  },
  {
   "cell_type": "code",
   "execution_count": 290,
   "metadata": {},
   "outputs": [
    {
     "data": {
      "text/plain": [
       "88120"
      ]
     },
     "execution_count": 290,
     "metadata": {},
     "output_type": "execute_result"
    }
   ],
   "source": [
    "len(y_test)"
   ]
  },
  {
   "cell_type": "code",
   "execution_count": 291,
   "metadata": {},
   "outputs": [
    {
     "data": {
      "text/html": [
       "<style>#sk-container-id-19 {color: black;background-color: white;}#sk-container-id-19 pre{padding: 0;}#sk-container-id-19 div.sk-toggleable {background-color: white;}#sk-container-id-19 label.sk-toggleable__label {cursor: pointer;display: block;width: 100%;margin-bottom: 0;padding: 0.3em;box-sizing: border-box;text-align: center;}#sk-container-id-19 label.sk-toggleable__label-arrow:before {content: \"▸\";float: left;margin-right: 0.25em;color: #696969;}#sk-container-id-19 label.sk-toggleable__label-arrow:hover:before {color: black;}#sk-container-id-19 div.sk-estimator:hover label.sk-toggleable__label-arrow:before {color: black;}#sk-container-id-19 div.sk-toggleable__content {max-height: 0;max-width: 0;overflow: hidden;text-align: left;background-color: #f0f8ff;}#sk-container-id-19 div.sk-toggleable__content pre {margin: 0.2em;color: black;border-radius: 0.25em;background-color: #f0f8ff;}#sk-container-id-19 input.sk-toggleable__control:checked~div.sk-toggleable__content {max-height: 200px;max-width: 100%;overflow: auto;}#sk-container-id-19 input.sk-toggleable__control:checked~label.sk-toggleable__label-arrow:before {content: \"▾\";}#sk-container-id-19 div.sk-estimator input.sk-toggleable__control:checked~label.sk-toggleable__label {background-color: #d4ebff;}#sk-container-id-19 div.sk-label input.sk-toggleable__control:checked~label.sk-toggleable__label {background-color: #d4ebff;}#sk-container-id-19 input.sk-hidden--visually {border: 0;clip: rect(1px 1px 1px 1px);clip: rect(1px, 1px, 1px, 1px);height: 1px;margin: -1px;overflow: hidden;padding: 0;position: absolute;width: 1px;}#sk-container-id-19 div.sk-estimator {font-family: monospace;background-color: #f0f8ff;border: 1px dotted black;border-radius: 0.25em;box-sizing: border-box;margin-bottom: 0.5em;}#sk-container-id-19 div.sk-estimator:hover {background-color: #d4ebff;}#sk-container-id-19 div.sk-parallel-item::after {content: \"\";width: 100%;border-bottom: 1px solid gray;flex-grow: 1;}#sk-container-id-19 div.sk-label:hover label.sk-toggleable__label {background-color: #d4ebff;}#sk-container-id-19 div.sk-serial::before {content: \"\";position: absolute;border-left: 1px solid gray;box-sizing: border-box;top: 0;bottom: 0;left: 50%;z-index: 0;}#sk-container-id-19 div.sk-serial {display: flex;flex-direction: column;align-items: center;background-color: white;padding-right: 0.2em;padding-left: 0.2em;position: relative;}#sk-container-id-19 div.sk-item {position: relative;z-index: 1;}#sk-container-id-19 div.sk-parallel {display: flex;align-items: stretch;justify-content: center;background-color: white;position: relative;}#sk-container-id-19 div.sk-item::before, #sk-container-id-19 div.sk-parallel-item::before {content: \"\";position: absolute;border-left: 1px solid gray;box-sizing: border-box;top: 0;bottom: 0;left: 50%;z-index: -1;}#sk-container-id-19 div.sk-parallel-item {display: flex;flex-direction: column;z-index: 1;position: relative;background-color: white;}#sk-container-id-19 div.sk-parallel-item:first-child::after {align-self: flex-end;width: 50%;}#sk-container-id-19 div.sk-parallel-item:last-child::after {align-self: flex-start;width: 50%;}#sk-container-id-19 div.sk-parallel-item:only-child::after {width: 0;}#sk-container-id-19 div.sk-dashed-wrapped {border: 1px dashed gray;margin: 0 0.4em 0.5em 0.4em;box-sizing: border-box;padding-bottom: 0.4em;background-color: white;}#sk-container-id-19 div.sk-label label {font-family: monospace;font-weight: bold;display: inline-block;line-height: 1.2em;}#sk-container-id-19 div.sk-label-container {text-align: center;}#sk-container-id-19 div.sk-container {/* jupyter's `normalize.less` sets `[hidden] { display: none; }` but bootstrap.min.css set `[hidden] { display: none !important; }` so we also need the `!important` here to be able to override the default hidden behavior on the sphinx rendered scikit-learn.org. See: https://github.com/scikit-learn/scikit-learn/issues/21755 */display: inline-block !important;position: relative;}#sk-container-id-19 div.sk-text-repr-fallback {display: none;}</style><div id=\"sk-container-id-19\" class=\"sk-top-container\"><div class=\"sk-text-repr-fallback\"><pre>Pipeline(steps=[(&#x27;preprocessor&#x27;,\n",
       "                 ColumnTransformer(remainder=&#x27;passthrough&#x27;,\n",
       "                                   transformers=[(&#x27;cat&#x27;,\n",
       "                                                  OneHotEncoder(handle_unknown=&#x27;ignore&#x27;),\n",
       "                                                  [&#x27;State&#x27;, &#x27;BankState&#x27;,\n",
       "                                                   &#x27;LowDoc&#x27;, &#x27;NewExist&#x27;,\n",
       "                                                   &#x27;UrbanRural&#x27;, &#x27;sector&#x27;,\n",
       "                                                   &#x27;have_franchise&#x27;,\n",
       "                                                   &#x27;in_recession&#x27;])])),\n",
       "                (&#x27;dummy&#x27;, DummyClassifier())])</pre><b>In a Jupyter environment, please rerun this cell to show the HTML representation or trust the notebook. <br />On GitHub, the HTML representation is unable to render, please try loading this page with nbviewer.org.</b></div><div class=\"sk-container\" hidden><div class=\"sk-item sk-dashed-wrapped\"><div class=\"sk-label-container\"><div class=\"sk-label sk-toggleable\"><input class=\"sk-toggleable__control sk-hidden--visually\" id=\"sk-estimator-id-127\" type=\"checkbox\" ><label for=\"sk-estimator-id-127\" class=\"sk-toggleable__label sk-toggleable__label-arrow\">Pipeline</label><div class=\"sk-toggleable__content\"><pre>Pipeline(steps=[(&#x27;preprocessor&#x27;,\n",
       "                 ColumnTransformer(remainder=&#x27;passthrough&#x27;,\n",
       "                                   transformers=[(&#x27;cat&#x27;,\n",
       "                                                  OneHotEncoder(handle_unknown=&#x27;ignore&#x27;),\n",
       "                                                  [&#x27;State&#x27;, &#x27;BankState&#x27;,\n",
       "                                                   &#x27;LowDoc&#x27;, &#x27;NewExist&#x27;,\n",
       "                                                   &#x27;UrbanRural&#x27;, &#x27;sector&#x27;,\n",
       "                                                   &#x27;have_franchise&#x27;,\n",
       "                                                   &#x27;in_recession&#x27;])])),\n",
       "                (&#x27;dummy&#x27;, DummyClassifier())])</pre></div></div></div><div class=\"sk-serial\"><div class=\"sk-item sk-dashed-wrapped\"><div class=\"sk-label-container\"><div class=\"sk-label sk-toggleable\"><input class=\"sk-toggleable__control sk-hidden--visually\" id=\"sk-estimator-id-128\" type=\"checkbox\" ><label for=\"sk-estimator-id-128\" class=\"sk-toggleable__label sk-toggleable__label-arrow\">preprocessor: ColumnTransformer</label><div class=\"sk-toggleable__content\"><pre>ColumnTransformer(remainder=&#x27;passthrough&#x27;,\n",
       "                  transformers=[(&#x27;cat&#x27;, OneHotEncoder(handle_unknown=&#x27;ignore&#x27;),\n",
       "                                 [&#x27;State&#x27;, &#x27;BankState&#x27;, &#x27;LowDoc&#x27;, &#x27;NewExist&#x27;,\n",
       "                                  &#x27;UrbanRural&#x27;, &#x27;sector&#x27;, &#x27;have_franchise&#x27;,\n",
       "                                  &#x27;in_recession&#x27;])])</pre></div></div></div><div class=\"sk-parallel\"><div class=\"sk-parallel-item\"><div class=\"sk-item\"><div class=\"sk-label-container\"><div class=\"sk-label sk-toggleable\"><input class=\"sk-toggleable__control sk-hidden--visually\" id=\"sk-estimator-id-129\" type=\"checkbox\" ><label for=\"sk-estimator-id-129\" class=\"sk-toggleable__label sk-toggleable__label-arrow\">cat</label><div class=\"sk-toggleable__content\"><pre>[&#x27;State&#x27;, &#x27;BankState&#x27;, &#x27;LowDoc&#x27;, &#x27;NewExist&#x27;, &#x27;UrbanRural&#x27;, &#x27;sector&#x27;, &#x27;have_franchise&#x27;, &#x27;in_recession&#x27;]</pre></div></div></div><div class=\"sk-serial\"><div class=\"sk-item\"><div class=\"sk-estimator sk-toggleable\"><input class=\"sk-toggleable__control sk-hidden--visually\" id=\"sk-estimator-id-130\" type=\"checkbox\" ><label for=\"sk-estimator-id-130\" class=\"sk-toggleable__label sk-toggleable__label-arrow\">OneHotEncoder</label><div class=\"sk-toggleable__content\"><pre>OneHotEncoder(handle_unknown=&#x27;ignore&#x27;)</pre></div></div></div></div></div></div><div class=\"sk-parallel-item\"><div class=\"sk-item\"><div class=\"sk-label-container\"><div class=\"sk-label sk-toggleable\"><input class=\"sk-toggleable__control sk-hidden--visually\" id=\"sk-estimator-id-131\" type=\"checkbox\" ><label for=\"sk-estimator-id-131\" class=\"sk-toggleable__label sk-toggleable__label-arrow\">remainder</label><div class=\"sk-toggleable__content\"><pre>[&#x27;Term&#x27;, &#x27;NoEmp&#x27;, &#x27;GrAppv&#x27;]</pre></div></div></div><div class=\"sk-serial\"><div class=\"sk-item\"><div class=\"sk-estimator sk-toggleable\"><input class=\"sk-toggleable__control sk-hidden--visually\" id=\"sk-estimator-id-132\" type=\"checkbox\" ><label for=\"sk-estimator-id-132\" class=\"sk-toggleable__label sk-toggleable__label-arrow\">passthrough</label><div class=\"sk-toggleable__content\"><pre>passthrough</pre></div></div></div></div></div></div></div></div><div class=\"sk-item\"><div class=\"sk-estimator sk-toggleable\"><input class=\"sk-toggleable__control sk-hidden--visually\" id=\"sk-estimator-id-133\" type=\"checkbox\" ><label for=\"sk-estimator-id-133\" class=\"sk-toggleable__label sk-toggleable__label-arrow\">DummyClassifier</label><div class=\"sk-toggleable__content\"><pre>DummyClassifier()</pre></div></div></div></div></div></div></div>"
      ],
      "text/plain": [
       "Pipeline(steps=[('preprocessor',\n",
       "                 ColumnTransformer(remainder='passthrough',\n",
       "                                   transformers=[('cat',\n",
       "                                                  OneHotEncoder(handle_unknown='ignore'),\n",
       "                                                  ['State', 'BankState',\n",
       "                                                   'LowDoc', 'NewExist',\n",
       "                                                   'UrbanRural', 'sector',\n",
       "                                                   'have_franchise',\n",
       "                                                   'in_recession'])])),\n",
       "                ('dummy', DummyClassifier())])"
      ]
     },
     "execution_count": 291,
     "metadata": {},
     "output_type": "execute_result"
    }
   ],
   "source": [
    "pipe_dummy.fit(X_train,y_train)"
   ]
  },
  {
   "cell_type": "code",
   "execution_count": 292,
   "metadata": {},
   "outputs": [
    {
     "name": "stdout",
     "output_type": "stream",
     "text": [
      "0.8257205794645412\n",
      "0.8257262823422605\n"
     ]
    }
   ],
   "source": [
    "print(pipe_dummy.score(X_train,y_train))\n",
    "print(pipe_dummy.score(X_test,y_test))"
   ]
  },
  {
   "cell_type": "code",
   "execution_count": 293,
   "metadata": {},
   "outputs": [],
   "source": [
    "from sklearn.ensemble import RandomForestClassifier\n",
    "from sklearn.tree import DecisionTreeClassifier\n",
    "\n",
    "tree = RandomForestClassifier(n_estimators=151,min_samples_split=100,random_state=0,oob_score=True,class_weight={0: 1, 1: 2.25},verbose=2,n_jobs=-2,max_samples=0.9)"
   ]
  },
  {
   "cell_type": "code",
   "execution_count": 294,
   "metadata": {},
   "outputs": [],
   "source": [
    "from sklearn.pipeline import Pipeline\n",
    "\n",
    "pipe = Pipeline([\n",
    "     ('preprocessor', preprocessor),\n",
    "     ('decisiontree', tree)\n",
    "])"
   ]
  },
  {
   "cell_type": "code",
   "execution_count": 295,
   "metadata": {},
   "outputs": [
    {
     "name": "stderr",
     "output_type": "stream",
     "text": [
      "[Parallel(n_jobs=-2)]: Using backend ThreadingBackend with 7 concurrent workers.\n"
     ]
    },
    {
     "name": "stdout",
     "output_type": "stream",
     "text": [
      "building tree 1 of 151\n",
      "building tree 2 of 151\n",
      "building tree 3 of 151\n",
      "building tree 4 of 151\n",
      "building tree 5 of 151\n",
      "building tree 6 of 151\n",
      "building tree 7 of 151\n",
      "building tree 8 of 151\n",
      "building tree 9 of 151\n",
      "building tree 10 of 151\n",
      "building tree 11 of 151\n",
      "building tree 12 of 151\n",
      "building tree 13 of 151\n",
      "building tree 14 of 151\n",
      "building tree 15 of 151\n",
      "building tree 16 of 151\n",
      "building tree 17 of 151\n",
      "building tree 18 of 151\n",
      "building tree 19 of 151\n",
      "building tree 20 of 151\n",
      "building tree 21 of 151\n",
      "building tree 22 of 151\n",
      "building tree 23 of 151\n",
      "building tree 24 of 151\n",
      "building tree 25 of 151\n",
      "building tree 26 of 151\n",
      "building tree 27 of 151\n",
      "building tree 28 of 151\n",
      "building tree 29 of 151\n",
      "building tree 30 of 151\n",
      "building tree 31 of 151\n",
      "building tree 32 of 151\n",
      "building tree 33 of 151\n",
      "building tree 34 of 151\n"
     ]
    },
    {
     "name": "stderr",
     "output_type": "stream",
     "text": [
      "[Parallel(n_jobs=-2)]: Done  27 tasks      | elapsed:  2.9min\n"
     ]
    },
    {
     "name": "stdout",
     "output_type": "stream",
     "text": [
      "building tree 35 of 151\n",
      "building tree 36 of 151\n",
      "building tree 37 of 151\n",
      "building tree 38 of 151\n",
      "building tree 39 of 151\n",
      "building tree 40 of 151\n",
      "building tree 41 of 151\n",
      "building tree 42 of 151\n",
      "building tree 43 of 151\n",
      "building tree 44 of 151\n",
      "building tree 45 of 151\n",
      "building tree 46 of 151\n",
      "building tree 47 of 151\n",
      "building tree 48 of 151\n",
      "building tree 49 of 151\n",
      "building tree 50 of 151\n",
      "building tree 51 of 151\n",
      "building tree 52 of 151\n",
      "building tree 53 of 151\n",
      "building tree 54 of 151\n",
      "building tree 55 of 151\n",
      "building tree 56 of 151\n",
      "building tree 57 of 151\n",
      "building tree 58 of 151\n",
      "building tree 59 of 151\n",
      "building tree 60 of 151\n",
      "building tree 61 of 151\n",
      "building tree 62 of 151\n",
      "building tree 63 of 151\n",
      "building tree 64 of 151\n",
      "building tree 65 of 151\n",
      "building tree 66 of 151\n",
      "building tree 67 of 151\n",
      "building tree 68 of 151\n",
      "building tree 69 of 151\n",
      "building tree 70 of 151\n",
      "building tree 71 of 151\n",
      "building tree 72 of 151\n",
      "building tree 73 of 151\n",
      "building tree 74 of 151\n",
      "building tree 75 of 151\n",
      "building tree 76 of 151\n",
      "building tree 77 of 151\n",
      "building tree 78 of 151\n",
      "building tree 79 of 151\n",
      "building tree 80 of 151\n",
      "building tree 81 of 151\n",
      "building tree 82 of 151\n",
      "building tree 83 of 151\n",
      "building tree 84 of 151\n",
      "building tree 85 of 151\n",
      "building tree 86 of 151\n",
      "building tree 87 of 151\n",
      "building tree 88 of 151\n",
      "building tree 89 of 151\n",
      "building tree 90 of 151\n",
      "building tree 91 of 151\n",
      "building tree 92 of 151\n",
      "building tree 93 of 151\n",
      "building tree 94 of 151\n",
      "building tree 95 of 151\n",
      "building tree 96 of 151\n",
      "building tree 97 of 151\n",
      "building tree 98 of 151\n",
      "building tree 99 of 151\n",
      "building tree 100 of 151\n",
      "building tree 101 of 151\n",
      "building tree 102 of 151\n",
      "building tree 103 of 151\n",
      "building tree 104 of 151\n",
      "building tree 105 of 151\n",
      "building tree 106 of 151\n",
      "building tree 107 of 151\n",
      "building tree 108 of 151\n",
      "building tree 109 of 151\n",
      "building tree 110 of 151\n",
      "building tree 111 of 151\n",
      "building tree 112 of 151\n",
      "building tree 113 of 151\n",
      "building tree 114 of 151\n",
      "building tree 115 of 151\n",
      "building tree 116 of 151\n",
      "building tree 117 of 151\n",
      "building tree 118 of 151\n",
      "building tree 119 of 151\n",
      "building tree 120 of 151\n",
      "building tree 121 of 151\n",
      "building tree 122 of 151\n",
      "building tree 123 of 151\n",
      "building tree 124 of 151\n",
      "building tree 125 of 151\n",
      "building tree 126 of 151\n",
      "building tree 127 of 151\n",
      "building tree 128 of 151\n",
      "building tree 129 of 151\n",
      "building tree 130 of 151\n",
      "building tree 131 of 151\n",
      "building tree 132 of 151\n",
      "building tree 133 of 151\n",
      "building tree 134 of 151\n",
      "building tree 135 of 151\n",
      "building tree 136 of 151\n",
      "building tree 137 of 151\n",
      "building tree 138 of 151\n",
      "building tree 139 of 151\n",
      "building tree 140 of 151\n",
      "building tree 141 of 151\n",
      "building tree 142 of 151\n",
      "building tree 143 of 151\n",
      "building tree 144 of 151\n",
      "building tree 145 of 151\n",
      "building tree 146 of 151\n",
      "building tree 147 of 151\n",
      "building tree 148 of 151\n",
      "building tree 149 of 151\n",
      "building tree 150 of 151\n",
      "building tree 151 of 151\n"
     ]
    },
    {
     "name": "stderr",
     "output_type": "stream",
     "text": [
      "[Parallel(n_jobs=-2)]: Done 151 out of 151 | elapsed: 13.7min finished\n"
     ]
    },
    {
     "data": {
      "text/html": [
       "<style>#sk-container-id-20 {color: black;background-color: white;}#sk-container-id-20 pre{padding: 0;}#sk-container-id-20 div.sk-toggleable {background-color: white;}#sk-container-id-20 label.sk-toggleable__label {cursor: pointer;display: block;width: 100%;margin-bottom: 0;padding: 0.3em;box-sizing: border-box;text-align: center;}#sk-container-id-20 label.sk-toggleable__label-arrow:before {content: \"▸\";float: left;margin-right: 0.25em;color: #696969;}#sk-container-id-20 label.sk-toggleable__label-arrow:hover:before {color: black;}#sk-container-id-20 div.sk-estimator:hover label.sk-toggleable__label-arrow:before {color: black;}#sk-container-id-20 div.sk-toggleable__content {max-height: 0;max-width: 0;overflow: hidden;text-align: left;background-color: #f0f8ff;}#sk-container-id-20 div.sk-toggleable__content pre {margin: 0.2em;color: black;border-radius: 0.25em;background-color: #f0f8ff;}#sk-container-id-20 input.sk-toggleable__control:checked~div.sk-toggleable__content {max-height: 200px;max-width: 100%;overflow: auto;}#sk-container-id-20 input.sk-toggleable__control:checked~label.sk-toggleable__label-arrow:before {content: \"▾\";}#sk-container-id-20 div.sk-estimator input.sk-toggleable__control:checked~label.sk-toggleable__label {background-color: #d4ebff;}#sk-container-id-20 div.sk-label input.sk-toggleable__control:checked~label.sk-toggleable__label {background-color: #d4ebff;}#sk-container-id-20 input.sk-hidden--visually {border: 0;clip: rect(1px 1px 1px 1px);clip: rect(1px, 1px, 1px, 1px);height: 1px;margin: -1px;overflow: hidden;padding: 0;position: absolute;width: 1px;}#sk-container-id-20 div.sk-estimator {font-family: monospace;background-color: #f0f8ff;border: 1px dotted black;border-radius: 0.25em;box-sizing: border-box;margin-bottom: 0.5em;}#sk-container-id-20 div.sk-estimator:hover {background-color: #d4ebff;}#sk-container-id-20 div.sk-parallel-item::after {content: \"\";width: 100%;border-bottom: 1px solid gray;flex-grow: 1;}#sk-container-id-20 div.sk-label:hover label.sk-toggleable__label {background-color: #d4ebff;}#sk-container-id-20 div.sk-serial::before {content: \"\";position: absolute;border-left: 1px solid gray;box-sizing: border-box;top: 0;bottom: 0;left: 50%;z-index: 0;}#sk-container-id-20 div.sk-serial {display: flex;flex-direction: column;align-items: center;background-color: white;padding-right: 0.2em;padding-left: 0.2em;position: relative;}#sk-container-id-20 div.sk-item {position: relative;z-index: 1;}#sk-container-id-20 div.sk-parallel {display: flex;align-items: stretch;justify-content: center;background-color: white;position: relative;}#sk-container-id-20 div.sk-item::before, #sk-container-id-20 div.sk-parallel-item::before {content: \"\";position: absolute;border-left: 1px solid gray;box-sizing: border-box;top: 0;bottom: 0;left: 50%;z-index: -1;}#sk-container-id-20 div.sk-parallel-item {display: flex;flex-direction: column;z-index: 1;position: relative;background-color: white;}#sk-container-id-20 div.sk-parallel-item:first-child::after {align-self: flex-end;width: 50%;}#sk-container-id-20 div.sk-parallel-item:last-child::after {align-self: flex-start;width: 50%;}#sk-container-id-20 div.sk-parallel-item:only-child::after {width: 0;}#sk-container-id-20 div.sk-dashed-wrapped {border: 1px dashed gray;margin: 0 0.4em 0.5em 0.4em;box-sizing: border-box;padding-bottom: 0.4em;background-color: white;}#sk-container-id-20 div.sk-label label {font-family: monospace;font-weight: bold;display: inline-block;line-height: 1.2em;}#sk-container-id-20 div.sk-label-container {text-align: center;}#sk-container-id-20 div.sk-container {/* jupyter's `normalize.less` sets `[hidden] { display: none; }` but bootstrap.min.css set `[hidden] { display: none !important; }` so we also need the `!important` here to be able to override the default hidden behavior on the sphinx rendered scikit-learn.org. See: https://github.com/scikit-learn/scikit-learn/issues/21755 */display: inline-block !important;position: relative;}#sk-container-id-20 div.sk-text-repr-fallback {display: none;}</style><div id=\"sk-container-id-20\" class=\"sk-top-container\"><div class=\"sk-text-repr-fallback\"><pre>Pipeline(steps=[(&#x27;preprocessor&#x27;,\n",
       "                 ColumnTransformer(remainder=&#x27;passthrough&#x27;,\n",
       "                                   transformers=[(&#x27;cat&#x27;,\n",
       "                                                  OneHotEncoder(handle_unknown=&#x27;ignore&#x27;),\n",
       "                                                  [&#x27;State&#x27;, &#x27;BankState&#x27;,\n",
       "                                                   &#x27;LowDoc&#x27;, &#x27;NewExist&#x27;,\n",
       "                                                   &#x27;UrbanRural&#x27;, &#x27;sector&#x27;,\n",
       "                                                   &#x27;have_franchise&#x27;,\n",
       "                                                   &#x27;in_recession&#x27;])])),\n",
       "                (&#x27;decisiontree&#x27;,\n",
       "                 RandomForestClassifier(class_weight={0: 1, 1: 2.25},\n",
       "                                        max_samples=0.9, min_samples_split=100,\n",
       "                                        n_estimators=151, n_jobs=-2,\n",
       "                                        oob_score=True, random_state=0,\n",
       "                                        verbose=2))])</pre><b>In a Jupyter environment, please rerun this cell to show the HTML representation or trust the notebook. <br />On GitHub, the HTML representation is unable to render, please try loading this page with nbviewer.org.</b></div><div class=\"sk-container\" hidden><div class=\"sk-item sk-dashed-wrapped\"><div class=\"sk-label-container\"><div class=\"sk-label sk-toggleable\"><input class=\"sk-toggleable__control sk-hidden--visually\" id=\"sk-estimator-id-134\" type=\"checkbox\" ><label for=\"sk-estimator-id-134\" class=\"sk-toggleable__label sk-toggleable__label-arrow\">Pipeline</label><div class=\"sk-toggleable__content\"><pre>Pipeline(steps=[(&#x27;preprocessor&#x27;,\n",
       "                 ColumnTransformer(remainder=&#x27;passthrough&#x27;,\n",
       "                                   transformers=[(&#x27;cat&#x27;,\n",
       "                                                  OneHotEncoder(handle_unknown=&#x27;ignore&#x27;),\n",
       "                                                  [&#x27;State&#x27;, &#x27;BankState&#x27;,\n",
       "                                                   &#x27;LowDoc&#x27;, &#x27;NewExist&#x27;,\n",
       "                                                   &#x27;UrbanRural&#x27;, &#x27;sector&#x27;,\n",
       "                                                   &#x27;have_franchise&#x27;,\n",
       "                                                   &#x27;in_recession&#x27;])])),\n",
       "                (&#x27;decisiontree&#x27;,\n",
       "                 RandomForestClassifier(class_weight={0: 1, 1: 2.25},\n",
       "                                        max_samples=0.9, min_samples_split=100,\n",
       "                                        n_estimators=151, n_jobs=-2,\n",
       "                                        oob_score=True, random_state=0,\n",
       "                                        verbose=2))])</pre></div></div></div><div class=\"sk-serial\"><div class=\"sk-item sk-dashed-wrapped\"><div class=\"sk-label-container\"><div class=\"sk-label sk-toggleable\"><input class=\"sk-toggleable__control sk-hidden--visually\" id=\"sk-estimator-id-135\" type=\"checkbox\" ><label for=\"sk-estimator-id-135\" class=\"sk-toggleable__label sk-toggleable__label-arrow\">preprocessor: ColumnTransformer</label><div class=\"sk-toggleable__content\"><pre>ColumnTransformer(remainder=&#x27;passthrough&#x27;,\n",
       "                  transformers=[(&#x27;cat&#x27;, OneHotEncoder(handle_unknown=&#x27;ignore&#x27;),\n",
       "                                 [&#x27;State&#x27;, &#x27;BankState&#x27;, &#x27;LowDoc&#x27;, &#x27;NewExist&#x27;,\n",
       "                                  &#x27;UrbanRural&#x27;, &#x27;sector&#x27;, &#x27;have_franchise&#x27;,\n",
       "                                  &#x27;in_recession&#x27;])])</pre></div></div></div><div class=\"sk-parallel\"><div class=\"sk-parallel-item\"><div class=\"sk-item\"><div class=\"sk-label-container\"><div class=\"sk-label sk-toggleable\"><input class=\"sk-toggleable__control sk-hidden--visually\" id=\"sk-estimator-id-136\" type=\"checkbox\" ><label for=\"sk-estimator-id-136\" class=\"sk-toggleable__label sk-toggleable__label-arrow\">cat</label><div class=\"sk-toggleable__content\"><pre>[&#x27;State&#x27;, &#x27;BankState&#x27;, &#x27;LowDoc&#x27;, &#x27;NewExist&#x27;, &#x27;UrbanRural&#x27;, &#x27;sector&#x27;, &#x27;have_franchise&#x27;, &#x27;in_recession&#x27;]</pre></div></div></div><div class=\"sk-serial\"><div class=\"sk-item\"><div class=\"sk-estimator sk-toggleable\"><input class=\"sk-toggleable__control sk-hidden--visually\" id=\"sk-estimator-id-137\" type=\"checkbox\" ><label for=\"sk-estimator-id-137\" class=\"sk-toggleable__label sk-toggleable__label-arrow\">OneHotEncoder</label><div class=\"sk-toggleable__content\"><pre>OneHotEncoder(handle_unknown=&#x27;ignore&#x27;)</pre></div></div></div></div></div></div><div class=\"sk-parallel-item\"><div class=\"sk-item\"><div class=\"sk-label-container\"><div class=\"sk-label sk-toggleable\"><input class=\"sk-toggleable__control sk-hidden--visually\" id=\"sk-estimator-id-138\" type=\"checkbox\" ><label for=\"sk-estimator-id-138\" class=\"sk-toggleable__label sk-toggleable__label-arrow\">remainder</label><div class=\"sk-toggleable__content\"><pre>[&#x27;Term&#x27;, &#x27;NoEmp&#x27;, &#x27;GrAppv&#x27;]</pre></div></div></div><div class=\"sk-serial\"><div class=\"sk-item\"><div class=\"sk-estimator sk-toggleable\"><input class=\"sk-toggleable__control sk-hidden--visually\" id=\"sk-estimator-id-139\" type=\"checkbox\" ><label for=\"sk-estimator-id-139\" class=\"sk-toggleable__label sk-toggleable__label-arrow\">passthrough</label><div class=\"sk-toggleable__content\"><pre>passthrough</pre></div></div></div></div></div></div></div></div><div class=\"sk-item\"><div class=\"sk-estimator sk-toggleable\"><input class=\"sk-toggleable__control sk-hidden--visually\" id=\"sk-estimator-id-140\" type=\"checkbox\" ><label for=\"sk-estimator-id-140\" class=\"sk-toggleable__label sk-toggleable__label-arrow\">RandomForestClassifier</label><div class=\"sk-toggleable__content\"><pre>RandomForestClassifier(class_weight={0: 1, 1: 2.25}, max_samples=0.9,\n",
       "                       min_samples_split=100, n_estimators=151, n_jobs=-2,\n",
       "                       oob_score=True, random_state=0, verbose=2)</pre></div></div></div></div></div></div></div>"
      ],
      "text/plain": [
       "Pipeline(steps=[('preprocessor',\n",
       "                 ColumnTransformer(remainder='passthrough',\n",
       "                                   transformers=[('cat',\n",
       "                                                  OneHotEncoder(handle_unknown='ignore'),\n",
       "                                                  ['State', 'BankState',\n",
       "                                                   'LowDoc', 'NewExist',\n",
       "                                                   'UrbanRural', 'sector',\n",
       "                                                   'have_franchise',\n",
       "                                                   'in_recession'])])),\n",
       "                ('decisiontree',\n",
       "                 RandomForestClassifier(class_weight={0: 1, 1: 2.25},\n",
       "                                        max_samples=0.9, min_samples_split=100,\n",
       "                                        n_estimators=151, n_jobs=-2,\n",
       "                                        oob_score=True, random_state=0,\n",
       "                                        verbose=2))])"
      ]
     },
     "execution_count": 295,
     "metadata": {},
     "output_type": "execute_result"
    }
   ],
   "source": [
    "pipe.fit(X_train,y_train)"
   ]
  },
  {
   "cell_type": "code",
   "execution_count": 296,
   "metadata": {},
   "outputs": [
    {
     "name": "stderr",
     "output_type": "stream",
     "text": [
      "[Parallel(n_jobs=7)]: Using backend ThreadingBackend with 7 concurrent workers.\n",
      "[Parallel(n_jobs=7)]: Done  27 tasks      | elapsed:    1.2s\n",
      "[Parallel(n_jobs=7)]: Done 151 out of 151 | elapsed:    5.9s finished\n",
      "[Parallel(n_jobs=7)]: Using backend ThreadingBackend with 7 concurrent workers.\n"
     ]
    },
    {
     "name": "stdout",
     "output_type": "stream",
     "text": [
      "0.9359103844897784\n"
     ]
    },
    {
     "name": "stderr",
     "output_type": "stream",
     "text": [
      "[Parallel(n_jobs=7)]: Done  27 tasks      | elapsed:    0.1s\n"
     ]
    },
    {
     "name": "stdout",
     "output_type": "stream",
     "text": [
      "0.928109396277803\n"
     ]
    },
    {
     "name": "stderr",
     "output_type": "stream",
     "text": [
      "[Parallel(n_jobs=7)]: Done 151 out of 151 | elapsed:    0.7s finished\n"
     ]
    }
   ],
   "source": [
    "print(pipe.score(X_train,y_train))\n",
    "print(pipe.score(X_test,y_test))"
   ]
  },
  {
   "cell_type": "code",
   "execution_count": 297,
   "metadata": {},
   "outputs": [
    {
     "data": {
      "image/png": "[encoded data removed]",
      "text/plain": [
       "<Figure size 1500x1000 with 1 Axes>"
      ]
     },
     "metadata": {},
     "output_type": "display_data"
    }
   ],
   "source": [
    "importances = pipe[-1].feature_importances_\n",
    "std = np.std([tree.feature_importances_ for tree in pipe[-1].estimators_], axis=0)\n",
    "\n",
    "forest_importances = pd.DataFrame({\"feature_importances\":importances,\"std\":std},index=pipe[0].get_feature_names_out())\n",
    "forest_importances.sort_values(by=\"feature_importances\",ascending=False,inplace=True)\n",
    "forest_importances = forest_importances.head(20)\n",
    "\n",
    "fig, ax = plt.subplots(figsize=(15,10))\n",
    "forest_importances[\"feature_importances\"].plot.bar(yerr=forest_importances[\"std\"], ax=ax)\n",
    "ax.set_title(\"Feature importances using MDI\")\n",
    "ax.set_ylabel(\"Mean decrease in impurity\")\n",
    "fig.tight_layout()"
   ]
  },
  {
   "cell_type": "code",
   "execution_count": 298,
   "metadata": {},
   "outputs": [
    {
     "data": {
      "text/plain": [
       "0.9264762437947387"
      ]
     },
     "execution_count": 298,
     "metadata": {},
     "output_type": "execute_result"
    }
   ],
   "source": [
    "pipe[-1].oob_score_"
   ]
  },
  {
   "cell_type": "code",
   "execution_count": 299,
   "metadata": {},
   "outputs": [
    {
     "name": "stderr",
     "output_type": "stream",
     "text": [
      "[Parallel(n_jobs=7)]: Using backend ThreadingBackend with 7 concurrent workers.\n",
      "[Parallel(n_jobs=7)]: Done  27 tasks      | elapsed:    1.2s\n",
      "[Parallel(n_jobs=7)]: Done 151 out of 151 | elapsed:    5.9s finished\n"
     ]
    },
    {
     "name": "stdout",
     "output_type": "stream",
     "text": [
      "              precision    recall  f1-score   support\n",
      "\n",
      "           0       0.96      0.96      0.96    654860\n",
      "           1       0.82      0.82      0.82    138217\n",
      "\n",
      "    accuracy                           0.94    793077\n",
      "   macro avg       0.89      0.89      0.89    793077\n",
      "weighted avg       0.94      0.94      0.94    793077\n",
      "\n"
     ]
    }
   ],
   "source": [
    "from sklearn.metrics import classification_report\n",
    "\n",
    "print(classification_report(y_true=y_train,y_pred=pipe.predict(X_train)))"
   ]
  },
  {
   "cell_type": "code",
   "execution_count": 300,
   "metadata": {},
   "outputs": [
    {
     "name": "stderr",
     "output_type": "stream",
     "text": [
      "[Parallel(n_jobs=7)]: Using backend ThreadingBackend with 7 concurrent workers.\n",
      "[Parallel(n_jobs=7)]: Done  27 tasks      | elapsed:    0.1s\n"
     ]
    },
    {
     "name": "stdout",
     "output_type": "stream",
     "text": [
      "              precision    recall  f1-score   support\n",
      "\n",
      "           0       0.96      0.96      0.96     72763\n",
      "           1       0.79      0.79      0.79     15357\n",
      "\n",
      "    accuracy                           0.93     88120\n",
      "   macro avg       0.88      0.88      0.88     88120\n",
      "weighted avg       0.93      0.93      0.93     88120\n",
      "\n"
     ]
    },
    {
     "name": "stderr",
     "output_type": "stream",
     "text": [
      "[Parallel(n_jobs=7)]: Done 151 out of 151 | elapsed:    0.7s finished\n"
     ]
    }
   ],
   "source": [
    "print(classification_report(y_true=y_test,y_pred=pipe.predict(X_test)))"
   ]
  },
  {
   "cell_type": "code",
   "execution_count": 301,
   "metadata": {},
   "outputs": [
    {
     "name": "stderr",
     "output_type": "stream",
     "text": [
      "[Parallel(n_jobs=7)]: Using backend ThreadingBackend with 7 concurrent workers.\n",
      "[Parallel(n_jobs=7)]: Done  27 tasks      | elapsed:    1.2s\n",
      "[Parallel(n_jobs=7)]: Done 151 out of 151 | elapsed:    6.0s finished\n"
     ]
    },
    {
     "data": {
      "image/png": "[encoded data removed]",
      "text/plain": [
       "<Figure size 640x480 with 2 Axes>"
      ]
     },
     "metadata": {},
     "output_type": "display_data"
    }
   ],
   "source": [
    "from sklearn.metrics import confusion_matrix, ConfusionMatrixDisplay\n",
    "\n",
    "cm = confusion_matrix(y_true=y_train,y_pred=pipe.predict(X_train))\n",
    "disp = ConfusionMatrixDisplay(confusion_matrix=cm,\n",
    "                              display_labels=pipe[-1].classes_)\n",
    "disp.plot()\n",
    "\n",
    "plt.show()\n"
   ]
  },
  {
   "cell_type": "code",
   "execution_count": 302,
   "metadata": {},
   "outputs": [
    {
     "name": "stderr",
     "output_type": "stream",
     "text": [
      "[Parallel(n_jobs=7)]: Using backend ThreadingBackend with 7 concurrent workers.\n",
      "[Parallel(n_jobs=7)]: Done  27 tasks      | elapsed:    0.1s\n",
      "[Parallel(n_jobs=7)]: Done 151 out of 151 | elapsed:    0.7s finished\n"
     ]
    },
    {
     "data": {
      "image/png": "[encoded data removed]",
      "text/plain": [
       "<Figure size 640x480 with 2 Axes>"
      ]
     },
     "metadata": {},
     "output_type": "display_data"
    }
   ],
   "source": [
    "cm = confusion_matrix(y_true=y_test,y_pred=pipe.predict(X_test))\n",
    "disp = ConfusionMatrixDisplay(confusion_matrix=cm,\n",
    "                              display_labels=pipe[-1].classes_)\n",
    "disp.plot()\n",
    "\n",
    "plt.show()\n"
   ]
  },
  {
   "cell_type": "code",
   "execution_count": 305,
   "metadata": {},
   "outputs": [],
   "source": [
    "# train_sizes, train_scores, test_scores = learning_curve(\n",
    "#     pipe, X_train, y_train, cv=2, scoring='accuracy',train_sizes=np.linspace(0.1,1,10))\n",
    "\n",
    "# train_scores_mean = train_scores.mean(axis=1)\n",
    "# test_scores_mean = test_scores.mean(axis=1)\n",
    "\n",
    "# plt.plot(train_sizes, train_scores_mean, 'o-', label='Scores d\\'entraînement')\n",
    "# plt.plot(train_sizes, test_scores_mean, 'o-', label='Scores de test')\n",
    "# plt.legend()\n",
    "# plt.show()"
   ]
  },
  {
   "cell_type": "code",
   "execution_count": null,
   "metadata": {},
   "outputs": [],
   "source": [
    "# from sklearn import tree\n",
    "# import graphviz \n",
    "\n",
    "# dot_data = tree.export_graphviz(pipe[-1].estimators_[0],out_file=None, \n",
    "#                      feature_names=new_columns,  \n",
    "#                       filled=True, rounded=True,\n",
    "#                       class_names=[\"False\",\"True\"],\n",
    "#                      special_characters=True)  \n",
    "# graph = graphviz.Source(dot_data)\n",
    "# graph.render(\"model_test\",format=\"pdf\")\n",
    "# graph"
   ]
  },
  {
   "attachments": {},
   "cell_type": "markdown",
   "metadata": {},
   "source": [
    "# LogisticRegression"
   ]
  },
  {
   "cell_type": "code",
   "execution_count": null,
   "metadata": {},
   "outputs": [],
   "source": [
    "# from sklearn.preprocessing import StandardScaler\n",
    "# from sklearn.linear_model import LogisticRegression\n",
    "\n",
    "# preprocessor = ColumnTransformer(\n",
    "#     transformers=[\n",
    "#         ('cat', categorical_transformer, categorial_features),\n",
    "#         (\"num\",StandardScaler(),numeric_features)\n",
    "#         ]\n",
    "# )\n",
    "\n",
    "# logisticreg=Pipeline([\n",
    "#      ('preprocessor', preprocessor),\n",
    "#      ('logisticregression', LogisticRegression(random_state=42,max_iter=10000))\n",
    "#      ]\n",
    "# )\n"
   ]
  },
  {
   "cell_type": "code",
   "execution_count": null,
   "metadata": {},
   "outputs": [],
   "source": [
    "# logisticreg.fit(X_train,y_train)"
   ]
  },
  {
   "cell_type": "code",
   "execution_count": null,
   "metadata": {},
   "outputs": [],
   "source": [
    "# from sklearn.inspection import permutation_importance\n",
    "\n",
    "\n",
    "# result = permutation_importance(logisticreg, X_train, y_train, n_repeats=10,\n",
    "#                                 random_state=0)\n",
    "# result.importances_mean\n",
    "\n",
    "# result.importances_std"
   ]
  },
  {
   "cell_type": "code",
   "execution_count": null,
   "metadata": {},
   "outputs": [],
   "source": [
    "# col_name = logisticreg[0].get_feature_names_out()\n",
    "\n",
    "# coef = pd.DataFrame(data=logisticreg[-1].coef_.reshape(-1,1), columns=['coefs'], index=col_name)"
   ]
  },
  {
   "cell_type": "code",
   "execution_count": null,
   "metadata": {},
   "outputs": [],
   "source": [
    "# coef = coef.sort_values(by=\"coefs\",ascending=False)\n",
    "# coef.head(30)"
   ]
  },
  {
   "cell_type": "code",
   "execution_count": null,
   "metadata": {},
   "outputs": [],
   "source": [
    "# print(logisticreg.score(X_train,y_train))\n",
    "# print(logisticreg.score(X_test,y_test))"
   ]
  },
  {
   "cell_type": "code",
   "execution_count": 306,
   "metadata": {},
   "outputs": [],
   "source": [
    "# import pickle\n",
    "# pickle_out = open(\"../Steven/RandomForest.pkl\", \"wb\") \n",
    "# pickle.dump(pipe, pickle_out) \n",
    "# pickle_out.close()"
   ]
  }
 ],
 "metadata": {
  "kernelspec": {
   "display_name": "assurance",
   "language": "python",
   "name": "python3"
  },
  "language_info": {
   "codemirror_mode": {
    "name": "ipython",
    "version": 3
   },
   "file_extension": ".py",
   "mimetype": "text/x-python",
   "name": "python",
   "nbconvert_exporter": "python",
   "pygments_lexer": "ipython3",
   "version": "3.9.15"
  },
  "orig_nbformat": 4,
  "vscode": {
   "interpreter": {
    "hash": "9846edfeac92b65469bdbfeec01b8a9379fd828c58cdd5829ef0063339b5426b"
   }
  }
 },
 "nbformat": 4,
 "nbformat_minor": 2
}
