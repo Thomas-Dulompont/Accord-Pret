{
 "cells": [
  {
   "cell_type": "code",
   "execution_count": 7,
   "metadata": {},
   "outputs": [],
   "source": [
    "import numpy as np\n",
    "import pandas as pd\n",
    "import matplotlib.pyplot as plt\n",
    "\n",
    "from sklearn.model_selection import train_test_split,learning_curve\n",
    "\n",
    "pd.options.display.max_rows = 150\n",
    "pd.options.display.max_columns = 150"
   ]
  },
  {
   "cell_type": "code",
   "execution_count": 8,
   "metadata": {},
   "outputs": [],
   "source": [
    "df = pd.read_csv('../data/data_clear.csv')"
   ]
  },
  {
   "cell_type": "code",
   "execution_count": 9,
   "metadata": {},
   "outputs": [
    {
     "name": "stdout",
     "output_type": "stream",
     "text": [
      "<class 'pandas.core.frame.DataFrame'>\n",
      "RangeIndex: 881197 entries, 0 to 881196\n",
      "Data columns (total 16 columns):\n",
      " #   Column          Non-Null Count   Dtype  \n",
      "---  ------          --------------   -----  \n",
      " 0   City            881197 non-null  object \n",
      " 1   State           881197 non-null  object \n",
      " 2   BankState       881197 non-null  object \n",
      " 3   Term            881197 non-null  float64\n",
      " 4   NoEmp           881197 non-null  float64\n",
      " 5   NewExist        881197 non-null  object \n",
      " 6   CreateJob       881197 non-null  int64  \n",
      " 7   RetainedJob     881197 non-null  int64  \n",
      " 8   UrbanRural      881197 non-null  object \n",
      " 9   RevLineCr       881197 non-null  int64  \n",
      " 10  LowDoc          881197 non-null  int64  \n",
      " 11  GrAppv          881197 non-null  float64\n",
      " 12  is_default      881197 non-null  int64  \n",
      " 13  have_franchise  881197 non-null  int64  \n",
      " 14  sector          881197 non-null  object \n",
      " 15  in_recession    881197 non-null  int64  \n",
      "dtypes: float64(3), int64(7), object(6)\n",
      "memory usage: 107.6+ MB\n"
     ]
    }
   ],
   "source": [
    "df.info()"
   ]
  },
  {
   "cell_type": "code",
   "execution_count": 10,
   "metadata": {},
   "outputs": [
    {
     "data": {
      "text/html": [
       "<div>\n",
       "<style scoped>\n",
       "    .dataframe tbody tr th:only-of-type {\n",
       "        vertical-align: middle;\n",
       "    }\n",
       "\n",
       "    .dataframe tbody tr th {\n",
       "        vertical-align: top;\n",
       "    }\n",
       "\n",
       "    .dataframe thead th {\n",
       "        text-align: right;\n",
       "    }\n",
       "</style>\n",
       "<table border=\"1\" class=\"dataframe\">\n",
       "  <thead>\n",
       "    <tr style=\"text-align: right;\">\n",
       "      <th></th>\n",
       "      <th>City</th>\n",
       "      <th>State</th>\n",
       "      <th>BankState</th>\n",
       "      <th>Term</th>\n",
       "      <th>NoEmp</th>\n",
       "      <th>NewExist</th>\n",
       "      <th>CreateJob</th>\n",
       "      <th>RetainedJob</th>\n",
       "      <th>UrbanRural</th>\n",
       "      <th>RevLineCr</th>\n",
       "      <th>LowDoc</th>\n",
       "      <th>GrAppv</th>\n",
       "      <th>is_default</th>\n",
       "      <th>have_franchise</th>\n",
       "      <th>sector</th>\n",
       "      <th>in_recession</th>\n",
       "    </tr>\n",
       "  </thead>\n",
       "  <tbody>\n",
       "    <tr>\n",
       "      <th>0</th>\n",
       "      <td>EVANSVILLE</td>\n",
       "      <td>IN</td>\n",
       "      <td>OH</td>\n",
       "      <td>84.0</td>\n",
       "      <td>4.0</td>\n",
       "      <td>New</td>\n",
       "      <td>0</td>\n",
       "      <td>0</td>\n",
       "      <td>Undefined</td>\n",
       "      <td>0</td>\n",
       "      <td>1</td>\n",
       "      <td>60000.0</td>\n",
       "      <td>0</td>\n",
       "      <td>0</td>\n",
       "      <td>Retail trade</td>\n",
       "      <td>0</td>\n",
       "    </tr>\n",
       "    <tr>\n",
       "      <th>1</th>\n",
       "      <td>NEW PARIS</td>\n",
       "      <td>IN</td>\n",
       "      <td>IN</td>\n",
       "      <td>60.0</td>\n",
       "      <td>2.0</td>\n",
       "      <td>New</td>\n",
       "      <td>0</td>\n",
       "      <td>0</td>\n",
       "      <td>Undefined</td>\n",
       "      <td>0</td>\n",
       "      <td>1</td>\n",
       "      <td>40000.0</td>\n",
       "      <td>0</td>\n",
       "      <td>0</td>\n",
       "      <td>Accommodation and food services</td>\n",
       "      <td>0</td>\n",
       "    </tr>\n",
       "    <tr>\n",
       "      <th>2</th>\n",
       "      <td>BLOOMINGTON</td>\n",
       "      <td>IN</td>\n",
       "      <td>IN</td>\n",
       "      <td>180.0</td>\n",
       "      <td>7.0</td>\n",
       "      <td>Existing</td>\n",
       "      <td>0</td>\n",
       "      <td>0</td>\n",
       "      <td>Undefined</td>\n",
       "      <td>0</td>\n",
       "      <td>0</td>\n",
       "      <td>287000.0</td>\n",
       "      <td>0</td>\n",
       "      <td>0</td>\n",
       "      <td>Health care and social assistance</td>\n",
       "      <td>0</td>\n",
       "    </tr>\n",
       "    <tr>\n",
       "      <th>3</th>\n",
       "      <td>BROKEN ARROW</td>\n",
       "      <td>OK</td>\n",
       "      <td>OK</td>\n",
       "      <td>60.0</td>\n",
       "      <td>2.0</td>\n",
       "      <td>Existing</td>\n",
       "      <td>0</td>\n",
       "      <td>0</td>\n",
       "      <td>Undefined</td>\n",
       "      <td>0</td>\n",
       "      <td>1</td>\n",
       "      <td>35000.0</td>\n",
       "      <td>0</td>\n",
       "      <td>0</td>\n",
       "      <td>Sector not known</td>\n",
       "      <td>0</td>\n",
       "    </tr>\n",
       "    <tr>\n",
       "      <th>4</th>\n",
       "      <td>ORLANDO</td>\n",
       "      <td>FL</td>\n",
       "      <td>FL</td>\n",
       "      <td>240.0</td>\n",
       "      <td>14.0</td>\n",
       "      <td>Existing</td>\n",
       "      <td>7</td>\n",
       "      <td>7</td>\n",
       "      <td>Undefined</td>\n",
       "      <td>0</td>\n",
       "      <td>0</td>\n",
       "      <td>229000.0</td>\n",
       "      <td>0</td>\n",
       "      <td>0</td>\n",
       "      <td>Sector not known</td>\n",
       "      <td>0</td>\n",
       "    </tr>\n",
       "  </tbody>\n",
       "</table>\n",
       "</div>"
      ],
      "text/plain": [
       "           City State BankState   Term  NoEmp  NewExist  CreateJob  \\\n",
       "0    EVANSVILLE    IN        OH   84.0    4.0       New          0   \n",
       "1     NEW PARIS    IN        IN   60.0    2.0       New          0   \n",
       "2   BLOOMINGTON    IN        IN  180.0    7.0  Existing          0   \n",
       "3  BROKEN ARROW    OK        OK   60.0    2.0  Existing          0   \n",
       "4       ORLANDO    FL        FL  240.0   14.0  Existing          7   \n",
       "\n",
       "   RetainedJob UrbanRural  RevLineCr  LowDoc    GrAppv  is_default  \\\n",
       "0            0  Undefined          0       1   60000.0           0   \n",
       "1            0  Undefined          0       1   40000.0           0   \n",
       "2            0  Undefined          0       0  287000.0           0   \n",
       "3            0  Undefined          0       1   35000.0           0   \n",
       "4            7  Undefined          0       0  229000.0           0   \n",
       "\n",
       "   have_franchise                             sector  in_recession  \n",
       "0               0                       Retail trade             0  \n",
       "1               0    Accommodation and food services             0  \n",
       "2               0  Health care and social assistance             0  \n",
       "3               0                   Sector not known             0  \n",
       "4               0                   Sector not known             0  "
      ]
     },
     "execution_count": 10,
     "metadata": {},
     "output_type": "execute_result"
    }
   ],
   "source": [
    "df.head()"
   ]
  },
  {
   "cell_type": "code",
   "execution_count": 11,
   "metadata": {},
   "outputs": [
    {
     "data": {
      "text/plain": [
       "Index(['City', 'State', 'BankState', 'Term', 'NoEmp', 'NewExist', 'CreateJob',\n",
       "       'RetainedJob', 'UrbanRural', 'RevLineCr', 'LowDoc', 'GrAppv',\n",
       "       'is_default', 'have_franchise', 'sector', 'in_recession'],\n",
       "      dtype='object')"
      ]
     },
     "execution_count": 11,
     "metadata": {},
     "output_type": "execute_result"
    }
   ],
   "source": [
    "df.columns"
   ]
  },
  {
   "cell_type": "code",
   "execution_count": 12,
   "metadata": {},
   "outputs": [],
   "source": [
    "X = df.drop(['City', 'CreateJob','RetainedJob', 'RevLineCr',\"is_default\"], axis=1)\n",
    "y = df['is_default']\n",
    "X_train, X_test, y_train, y_test = train_test_split(X, y, train_size=0.9, shuffle=True,stratify=y, random_state=42)"
   ]
  },
  {
   "cell_type": "code",
   "execution_count": 13,
   "metadata": {},
   "outputs": [],
   "source": [
    "numeric_features = [\"Term\",\"NoEmp\",\"GrAppv\"]\n",
    "categorial_features = [\"State\",\"BankState\", \"LowDoc\",\"NewExist\",\"UrbanRural\", 'have_franchise', 'sector', 'in_recession']"
   ]
  },
  {
   "cell_type": "code",
   "execution_count": 14,
   "metadata": {},
   "outputs": [],
   "source": [
    "from sklearn.pipeline import Pipeline,make_pipeline\n",
    "from sklearn.preprocessing import OneHotEncoder,PolynomialFeatures\n",
    "\n",
    "categorical_transformer = OneHotEncoder(handle_unknown=\"ignore\")"
   ]
  },
  {
   "cell_type": "code",
   "execution_count": 15,
   "metadata": {},
   "outputs": [],
   "source": [
    "from sklearn.compose import ColumnTransformer\n",
    "preprocessor = ColumnTransformer(\n",
    "    transformers=[\n",
    "        ('cat', categorical_transformer, categorial_features)\n",
    "    ]\n",
    "   , remainder=\"passthrough\" \n",
    ")"
   ]
  },
  {
   "cell_type": "code",
   "execution_count": 16,
   "metadata": {},
   "outputs": [],
   "source": [
    "from sklearn.dummy import DummyClassifier\n",
    "dummy = DummyClassifier()\n",
    "pipe_dummy = Pipeline([\n",
    "     ('preprocessor', preprocessor),\n",
    "     ('dummy', dummy)\n",
    "])"
   ]
  },
  {
   "cell_type": "code",
   "execution_count": 17,
   "metadata": {},
   "outputs": [
    {
     "data": {
      "text/plain": [
       "793077"
      ]
     },
     "execution_count": 17,
     "metadata": {},
     "output_type": "execute_result"
    }
   ],
   "source": [
    "len(y_train)"
   ]
  },
  {
   "cell_type": "code",
   "execution_count": 18,
   "metadata": {},
   "outputs": [
    {
     "data": {
      "text/plain": [
       "88120"
      ]
     },
     "execution_count": 18,
     "metadata": {},
     "output_type": "execute_result"
    }
   ],
   "source": [
    "len(y_test)"
   ]
  },
  {
   "cell_type": "code",
   "execution_count": 19,
   "metadata": {},
   "outputs": [
    {
     "data": {
      "text/html": [
       "<style>#sk-container-id-1 {color: black;background-color: white;}#sk-container-id-1 pre{padding: 0;}#sk-container-id-1 div.sk-toggleable {background-color: white;}#sk-container-id-1 label.sk-toggleable__label {cursor: pointer;display: block;width: 100%;margin-bottom: 0;padding: 0.3em;box-sizing: border-box;text-align: center;}#sk-container-id-1 label.sk-toggleable__label-arrow:before {content: \"▸\";float: left;margin-right: 0.25em;color: #696969;}#sk-container-id-1 label.sk-toggleable__label-arrow:hover:before {color: black;}#sk-container-id-1 div.sk-estimator:hover label.sk-toggleable__label-arrow:before {color: black;}#sk-container-id-1 div.sk-toggleable__content {max-height: 0;max-width: 0;overflow: hidden;text-align: left;background-color: #f0f8ff;}#sk-container-id-1 div.sk-toggleable__content pre {margin: 0.2em;color: black;border-radius: 0.25em;background-color: #f0f8ff;}#sk-container-id-1 input.sk-toggleable__control:checked~div.sk-toggleable__content {max-height: 200px;max-width: 100%;overflow: auto;}#sk-container-id-1 input.sk-toggleable__control:checked~label.sk-toggleable__label-arrow:before {content: \"▾\";}#sk-container-id-1 div.sk-estimator input.sk-toggleable__control:checked~label.sk-toggleable__label {background-color: #d4ebff;}#sk-container-id-1 div.sk-label input.sk-toggleable__control:checked~label.sk-toggleable__label {background-color: #d4ebff;}#sk-container-id-1 input.sk-hidden--visually {border: 0;clip: rect(1px 1px 1px 1px);clip: rect(1px, 1px, 1px, 1px);height: 1px;margin: -1px;overflow: hidden;padding: 0;position: absolute;width: 1px;}#sk-container-id-1 div.sk-estimator {font-family: monospace;background-color: #f0f8ff;border: 1px dotted black;border-radius: 0.25em;box-sizing: border-box;margin-bottom: 0.5em;}#sk-container-id-1 div.sk-estimator:hover {background-color: #d4ebff;}#sk-container-id-1 div.sk-parallel-item::after {content: \"\";width: 100%;border-bottom: 1px solid gray;flex-grow: 1;}#sk-container-id-1 div.sk-label:hover label.sk-toggleable__label {background-color: #d4ebff;}#sk-container-id-1 div.sk-serial::before {content: \"\";position: absolute;border-left: 1px solid gray;box-sizing: border-box;top: 0;bottom: 0;left: 50%;z-index: 0;}#sk-container-id-1 div.sk-serial {display: flex;flex-direction: column;align-items: center;background-color: white;padding-right: 0.2em;padding-left: 0.2em;position: relative;}#sk-container-id-1 div.sk-item {position: relative;z-index: 1;}#sk-container-id-1 div.sk-parallel {display: flex;align-items: stretch;justify-content: center;background-color: white;position: relative;}#sk-container-id-1 div.sk-item::before, #sk-container-id-1 div.sk-parallel-item::before {content: \"\";position: absolute;border-left: 1px solid gray;box-sizing: border-box;top: 0;bottom: 0;left: 50%;z-index: -1;}#sk-container-id-1 div.sk-parallel-item {display: flex;flex-direction: column;z-index: 1;position: relative;background-color: white;}#sk-container-id-1 div.sk-parallel-item:first-child::after {align-self: flex-end;width: 50%;}#sk-container-id-1 div.sk-parallel-item:last-child::after {align-self: flex-start;width: 50%;}#sk-container-id-1 div.sk-parallel-item:only-child::after {width: 0;}#sk-container-id-1 div.sk-dashed-wrapped {border: 1px dashed gray;margin: 0 0.4em 0.5em 0.4em;box-sizing: border-box;padding-bottom: 0.4em;background-color: white;}#sk-container-id-1 div.sk-label label {font-family: monospace;font-weight: bold;display: inline-block;line-height: 1.2em;}#sk-container-id-1 div.sk-label-container {text-align: center;}#sk-container-id-1 div.sk-container {/* jupyter's `normalize.less` sets `[hidden] { display: none; }` but bootstrap.min.css set `[hidden] { display: none !important; }` so we also need the `!important` here to be able to override the default hidden behavior on the sphinx rendered scikit-learn.org. See: https://github.com/scikit-learn/scikit-learn/issues/21755 */display: inline-block !important;position: relative;}#sk-container-id-1 div.sk-text-repr-fallback {display: none;}</style><div id=\"sk-container-id-1\" class=\"sk-top-container\"><div class=\"sk-text-repr-fallback\"><pre>Pipeline(steps=[(&#x27;preprocessor&#x27;,\n",
       "                 ColumnTransformer(remainder=&#x27;passthrough&#x27;,\n",
       "                                   transformers=[(&#x27;cat&#x27;,\n",
       "                                                  OneHotEncoder(handle_unknown=&#x27;ignore&#x27;),\n",
       "                                                  [&#x27;State&#x27;, &#x27;BankState&#x27;,\n",
       "                                                   &#x27;LowDoc&#x27;, &#x27;NewExist&#x27;,\n",
       "                                                   &#x27;UrbanRural&#x27;,\n",
       "                                                   &#x27;have_franchise&#x27;, &#x27;sector&#x27;,\n",
       "                                                   &#x27;in_recession&#x27;])])),\n",
       "                (&#x27;dummy&#x27;, DummyClassifier())])</pre><b>In a Jupyter environment, please rerun this cell to show the HTML representation or trust the notebook. <br />On GitHub, the HTML representation is unable to render, please try loading this page with nbviewer.org.</b></div><div class=\"sk-container\" hidden><div class=\"sk-item sk-dashed-wrapped\"><div class=\"sk-label-container\"><div class=\"sk-label sk-toggleable\"><input class=\"sk-toggleable__control sk-hidden--visually\" id=\"sk-estimator-id-1\" type=\"checkbox\" ><label for=\"sk-estimator-id-1\" class=\"sk-toggleable__label sk-toggleable__label-arrow\">Pipeline</label><div class=\"sk-toggleable__content\"><pre>Pipeline(steps=[(&#x27;preprocessor&#x27;,\n",
       "                 ColumnTransformer(remainder=&#x27;passthrough&#x27;,\n",
       "                                   transformers=[(&#x27;cat&#x27;,\n",
       "                                                  OneHotEncoder(handle_unknown=&#x27;ignore&#x27;),\n",
       "                                                  [&#x27;State&#x27;, &#x27;BankState&#x27;,\n",
       "                                                   &#x27;LowDoc&#x27;, &#x27;NewExist&#x27;,\n",
       "                                                   &#x27;UrbanRural&#x27;,\n",
       "                                                   &#x27;have_franchise&#x27;, &#x27;sector&#x27;,\n",
       "                                                   &#x27;in_recession&#x27;])])),\n",
       "                (&#x27;dummy&#x27;, DummyClassifier())])</pre></div></div></div><div class=\"sk-serial\"><div class=\"sk-item sk-dashed-wrapped\"><div class=\"sk-label-container\"><div class=\"sk-label sk-toggleable\"><input class=\"sk-toggleable__control sk-hidden--visually\" id=\"sk-estimator-id-2\" type=\"checkbox\" ><label for=\"sk-estimator-id-2\" class=\"sk-toggleable__label sk-toggleable__label-arrow\">preprocessor: ColumnTransformer</label><div class=\"sk-toggleable__content\"><pre>ColumnTransformer(remainder=&#x27;passthrough&#x27;,\n",
       "                  transformers=[(&#x27;cat&#x27;, OneHotEncoder(handle_unknown=&#x27;ignore&#x27;),\n",
       "                                 [&#x27;State&#x27;, &#x27;BankState&#x27;, &#x27;LowDoc&#x27;, &#x27;NewExist&#x27;,\n",
       "                                  &#x27;UrbanRural&#x27;, &#x27;have_franchise&#x27;, &#x27;sector&#x27;,\n",
       "                                  &#x27;in_recession&#x27;])])</pre></div></div></div><div class=\"sk-parallel\"><div class=\"sk-parallel-item\"><div class=\"sk-item\"><div class=\"sk-label-container\"><div class=\"sk-label sk-toggleable\"><input class=\"sk-toggleable__control sk-hidden--visually\" id=\"sk-estimator-id-3\" type=\"checkbox\" ><label for=\"sk-estimator-id-3\" class=\"sk-toggleable__label sk-toggleable__label-arrow\">cat</label><div class=\"sk-toggleable__content\"><pre>[&#x27;State&#x27;, &#x27;BankState&#x27;, &#x27;LowDoc&#x27;, &#x27;NewExist&#x27;, &#x27;UrbanRural&#x27;, &#x27;have_franchise&#x27;, &#x27;sector&#x27;, &#x27;in_recession&#x27;]</pre></div></div></div><div class=\"sk-serial\"><div class=\"sk-item\"><div class=\"sk-estimator sk-toggleable\"><input class=\"sk-toggleable__control sk-hidden--visually\" id=\"sk-estimator-id-4\" type=\"checkbox\" ><label for=\"sk-estimator-id-4\" class=\"sk-toggleable__label sk-toggleable__label-arrow\">OneHotEncoder</label><div class=\"sk-toggleable__content\"><pre>OneHotEncoder(handle_unknown=&#x27;ignore&#x27;)</pre></div></div></div></div></div></div><div class=\"sk-parallel-item\"><div class=\"sk-item\"><div class=\"sk-label-container\"><div class=\"sk-label sk-toggleable\"><input class=\"sk-toggleable__control sk-hidden--visually\" id=\"sk-estimator-id-5\" type=\"checkbox\" ><label for=\"sk-estimator-id-5\" class=\"sk-toggleable__label sk-toggleable__label-arrow\">remainder</label><div class=\"sk-toggleable__content\"><pre>[&#x27;Term&#x27;, &#x27;NoEmp&#x27;, &#x27;GrAppv&#x27;]</pre></div></div></div><div class=\"sk-serial\"><div class=\"sk-item\"><div class=\"sk-estimator sk-toggleable\"><input class=\"sk-toggleable__control sk-hidden--visually\" id=\"sk-estimator-id-6\" type=\"checkbox\" ><label for=\"sk-estimator-id-6\" class=\"sk-toggleable__label sk-toggleable__label-arrow\">passthrough</label><div class=\"sk-toggleable__content\"><pre>passthrough</pre></div></div></div></div></div></div></div></div><div class=\"sk-item\"><div class=\"sk-estimator sk-toggleable\"><input class=\"sk-toggleable__control sk-hidden--visually\" id=\"sk-estimator-id-7\" type=\"checkbox\" ><label for=\"sk-estimator-id-7\" class=\"sk-toggleable__label sk-toggleable__label-arrow\">DummyClassifier</label><div class=\"sk-toggleable__content\"><pre>DummyClassifier()</pre></div></div></div></div></div></div></div>"
      ],
      "text/plain": [
       "Pipeline(steps=[('preprocessor',\n",
       "                 ColumnTransformer(remainder='passthrough',\n",
       "                                   transformers=[('cat',\n",
       "                                                  OneHotEncoder(handle_unknown='ignore'),\n",
       "                                                  ['State', 'BankState',\n",
       "                                                   'LowDoc', 'NewExist',\n",
       "                                                   'UrbanRural',\n",
       "                                                   'have_franchise', 'sector',\n",
       "                                                   'in_recession'])])),\n",
       "                ('dummy', DummyClassifier())])"
      ]
     },
     "execution_count": 19,
     "metadata": {},
     "output_type": "execute_result"
    }
   ],
   "source": [
    "pipe_dummy.fit(X_train,y_train)"
   ]
  },
  {
   "cell_type": "code",
   "execution_count": 20,
   "metadata": {},
   "outputs": [
    {
     "name": "stdout",
     "output_type": "stream",
     "text": [
      "0.8257205794645412\n",
      "0.8257262823422605\n"
     ]
    }
   ],
   "source": [
    "print(pipe_dummy.score(X_train,y_train))\n",
    "print(pipe_dummy.score(X_test,y_test))"
   ]
  },
  {
   "cell_type": "code",
   "execution_count": 21,
   "metadata": {},
   "outputs": [],
   "source": [
    "from sklearn.ensemble import RandomForestClassifier\n",
    "from sklearn.tree import DecisionTreeClassifier\n",
    "tree = RandomForestClassifier(n_estimators=100,min_samples_split=250,random_state=42)"
   ]
  },
  {
   "cell_type": "code",
   "execution_count": 22,
   "metadata": {},
   "outputs": [],
   "source": [
    "from sklearn.metrics import mean_absolute_error\n",
    "from sklearn.pipeline import Pipeline\n",
    "\n",
    "pipe = Pipeline([\n",
    "     ('preprocessor', preprocessor),\n",
    "     ('decisiontree', tree)\n",
    "])"
   ]
  },
  {
   "cell_type": "code",
   "execution_count": 23,
   "metadata": {},
   "outputs": [
    {
     "data": {
      "text/html": [
       "<style>#sk-container-id-2 {color: black;background-color: white;}#sk-container-id-2 pre{padding: 0;}#sk-container-id-2 div.sk-toggleable {background-color: white;}#sk-container-id-2 label.sk-toggleable__label {cursor: pointer;display: block;width: 100%;margin-bottom: 0;padding: 0.3em;box-sizing: border-box;text-align: center;}#sk-container-id-2 label.sk-toggleable__label-arrow:before {content: \"▸\";float: left;margin-right: 0.25em;color: #696969;}#sk-container-id-2 label.sk-toggleable__label-arrow:hover:before {color: black;}#sk-container-id-2 div.sk-estimator:hover label.sk-toggleable__label-arrow:before {color: black;}#sk-container-id-2 div.sk-toggleable__content {max-height: 0;max-width: 0;overflow: hidden;text-align: left;background-color: #f0f8ff;}#sk-container-id-2 div.sk-toggleable__content pre {margin: 0.2em;color: black;border-radius: 0.25em;background-color: #f0f8ff;}#sk-container-id-2 input.sk-toggleable__control:checked~div.sk-toggleable__content {max-height: 200px;max-width: 100%;overflow: auto;}#sk-container-id-2 input.sk-toggleable__control:checked~label.sk-toggleable__label-arrow:before {content: \"▾\";}#sk-container-id-2 div.sk-estimator input.sk-toggleable__control:checked~label.sk-toggleable__label {background-color: #d4ebff;}#sk-container-id-2 div.sk-label input.sk-toggleable__control:checked~label.sk-toggleable__label {background-color: #d4ebff;}#sk-container-id-2 input.sk-hidden--visually {border: 0;clip: rect(1px 1px 1px 1px);clip: rect(1px, 1px, 1px, 1px);height: 1px;margin: -1px;overflow: hidden;padding: 0;position: absolute;width: 1px;}#sk-container-id-2 div.sk-estimator {font-family: monospace;background-color: #f0f8ff;border: 1px dotted black;border-radius: 0.25em;box-sizing: border-box;margin-bottom: 0.5em;}#sk-container-id-2 div.sk-estimator:hover {background-color: #d4ebff;}#sk-container-id-2 div.sk-parallel-item::after {content: \"\";width: 100%;border-bottom: 1px solid gray;flex-grow: 1;}#sk-container-id-2 div.sk-label:hover label.sk-toggleable__label {background-color: #d4ebff;}#sk-container-id-2 div.sk-serial::before {content: \"\";position: absolute;border-left: 1px solid gray;box-sizing: border-box;top: 0;bottom: 0;left: 50%;z-index: 0;}#sk-container-id-2 div.sk-serial {display: flex;flex-direction: column;align-items: center;background-color: white;padding-right: 0.2em;padding-left: 0.2em;position: relative;}#sk-container-id-2 div.sk-item {position: relative;z-index: 1;}#sk-container-id-2 div.sk-parallel {display: flex;align-items: stretch;justify-content: center;background-color: white;position: relative;}#sk-container-id-2 div.sk-item::before, #sk-container-id-2 div.sk-parallel-item::before {content: \"\";position: absolute;border-left: 1px solid gray;box-sizing: border-box;top: 0;bottom: 0;left: 50%;z-index: -1;}#sk-container-id-2 div.sk-parallel-item {display: flex;flex-direction: column;z-index: 1;position: relative;background-color: white;}#sk-container-id-2 div.sk-parallel-item:first-child::after {align-self: flex-end;width: 50%;}#sk-container-id-2 div.sk-parallel-item:last-child::after {align-self: flex-start;width: 50%;}#sk-container-id-2 div.sk-parallel-item:only-child::after {width: 0;}#sk-container-id-2 div.sk-dashed-wrapped {border: 1px dashed gray;margin: 0 0.4em 0.5em 0.4em;box-sizing: border-box;padding-bottom: 0.4em;background-color: white;}#sk-container-id-2 div.sk-label label {font-family: monospace;font-weight: bold;display: inline-block;line-height: 1.2em;}#sk-container-id-2 div.sk-label-container {text-align: center;}#sk-container-id-2 div.sk-container {/* jupyter's `normalize.less` sets `[hidden] { display: none; }` but bootstrap.min.css set `[hidden] { display: none !important; }` so we also need the `!important` here to be able to override the default hidden behavior on the sphinx rendered scikit-learn.org. See: https://github.com/scikit-learn/scikit-learn/issues/21755 */display: inline-block !important;position: relative;}#sk-container-id-2 div.sk-text-repr-fallback {display: none;}</style><div id=\"sk-container-id-2\" class=\"sk-top-container\"><div class=\"sk-text-repr-fallback\"><pre>Pipeline(steps=[(&#x27;preprocessor&#x27;,\n",
       "                 ColumnTransformer(remainder=&#x27;passthrough&#x27;,\n",
       "                                   transformers=[(&#x27;cat&#x27;,\n",
       "                                                  OneHotEncoder(handle_unknown=&#x27;ignore&#x27;),\n",
       "                                                  [&#x27;State&#x27;, &#x27;BankState&#x27;,\n",
       "                                                   &#x27;LowDoc&#x27;, &#x27;NewExist&#x27;,\n",
       "                                                   &#x27;UrbanRural&#x27;,\n",
       "                                                   &#x27;have_franchise&#x27;, &#x27;sector&#x27;,\n",
       "                                                   &#x27;in_recession&#x27;])])),\n",
       "                (&#x27;decisiontree&#x27;,\n",
       "                 RandomForestClassifier(min_samples_split=250,\n",
       "                                        random_state=42))])</pre><b>In a Jupyter environment, please rerun this cell to show the HTML representation or trust the notebook. <br />On GitHub, the HTML representation is unable to render, please try loading this page with nbviewer.org.</b></div><div class=\"sk-container\" hidden><div class=\"sk-item sk-dashed-wrapped\"><div class=\"sk-label-container\"><div class=\"sk-label sk-toggleable\"><input class=\"sk-toggleable__control sk-hidden--visually\" id=\"sk-estimator-id-8\" type=\"checkbox\" ><label for=\"sk-estimator-id-8\" class=\"sk-toggleable__label sk-toggleable__label-arrow\">Pipeline</label><div class=\"sk-toggleable__content\"><pre>Pipeline(steps=[(&#x27;preprocessor&#x27;,\n",
       "                 ColumnTransformer(remainder=&#x27;passthrough&#x27;,\n",
       "                                   transformers=[(&#x27;cat&#x27;,\n",
       "                                                  OneHotEncoder(handle_unknown=&#x27;ignore&#x27;),\n",
       "                                                  [&#x27;State&#x27;, &#x27;BankState&#x27;,\n",
       "                                                   &#x27;LowDoc&#x27;, &#x27;NewExist&#x27;,\n",
       "                                                   &#x27;UrbanRural&#x27;,\n",
       "                                                   &#x27;have_franchise&#x27;, &#x27;sector&#x27;,\n",
       "                                                   &#x27;in_recession&#x27;])])),\n",
       "                (&#x27;decisiontree&#x27;,\n",
       "                 RandomForestClassifier(min_samples_split=250,\n",
       "                                        random_state=42))])</pre></div></div></div><div class=\"sk-serial\"><div class=\"sk-item sk-dashed-wrapped\"><div class=\"sk-label-container\"><div class=\"sk-label sk-toggleable\"><input class=\"sk-toggleable__control sk-hidden--visually\" id=\"sk-estimator-id-9\" type=\"checkbox\" ><label for=\"sk-estimator-id-9\" class=\"sk-toggleable__label sk-toggleable__label-arrow\">preprocessor: ColumnTransformer</label><div class=\"sk-toggleable__content\"><pre>ColumnTransformer(remainder=&#x27;passthrough&#x27;,\n",
       "                  transformers=[(&#x27;cat&#x27;, OneHotEncoder(handle_unknown=&#x27;ignore&#x27;),\n",
       "                                 [&#x27;State&#x27;, &#x27;BankState&#x27;, &#x27;LowDoc&#x27;, &#x27;NewExist&#x27;,\n",
       "                                  &#x27;UrbanRural&#x27;, &#x27;have_franchise&#x27;, &#x27;sector&#x27;,\n",
       "                                  &#x27;in_recession&#x27;])])</pre></div></div></div><div class=\"sk-parallel\"><div class=\"sk-parallel-item\"><div class=\"sk-item\"><div class=\"sk-label-container\"><div class=\"sk-label sk-toggleable\"><input class=\"sk-toggleable__control sk-hidden--visually\" id=\"sk-estimator-id-10\" type=\"checkbox\" ><label for=\"sk-estimator-id-10\" class=\"sk-toggleable__label sk-toggleable__label-arrow\">cat</label><div class=\"sk-toggleable__content\"><pre>[&#x27;State&#x27;, &#x27;BankState&#x27;, &#x27;LowDoc&#x27;, &#x27;NewExist&#x27;, &#x27;UrbanRural&#x27;, &#x27;have_franchise&#x27;, &#x27;sector&#x27;, &#x27;in_recession&#x27;]</pre></div></div></div><div class=\"sk-serial\"><div class=\"sk-item\"><div class=\"sk-estimator sk-toggleable\"><input class=\"sk-toggleable__control sk-hidden--visually\" id=\"sk-estimator-id-11\" type=\"checkbox\" ><label for=\"sk-estimator-id-11\" class=\"sk-toggleable__label sk-toggleable__label-arrow\">OneHotEncoder</label><div class=\"sk-toggleable__content\"><pre>OneHotEncoder(handle_unknown=&#x27;ignore&#x27;)</pre></div></div></div></div></div></div><div class=\"sk-parallel-item\"><div class=\"sk-item\"><div class=\"sk-label-container\"><div class=\"sk-label sk-toggleable\"><input class=\"sk-toggleable__control sk-hidden--visually\" id=\"sk-estimator-id-12\" type=\"checkbox\" ><label for=\"sk-estimator-id-12\" class=\"sk-toggleable__label sk-toggleable__label-arrow\">remainder</label><div class=\"sk-toggleable__content\"><pre>[&#x27;Term&#x27;, &#x27;NoEmp&#x27;, &#x27;GrAppv&#x27;]</pre></div></div></div><div class=\"sk-serial\"><div class=\"sk-item\"><div class=\"sk-estimator sk-toggleable\"><input class=\"sk-toggleable__control sk-hidden--visually\" id=\"sk-estimator-id-13\" type=\"checkbox\" ><label for=\"sk-estimator-id-13\" class=\"sk-toggleable__label sk-toggleable__label-arrow\">passthrough</label><div class=\"sk-toggleable__content\"><pre>passthrough</pre></div></div></div></div></div></div></div></div><div class=\"sk-item\"><div class=\"sk-estimator sk-toggleable\"><input class=\"sk-toggleable__control sk-hidden--visually\" id=\"sk-estimator-id-14\" type=\"checkbox\" ><label for=\"sk-estimator-id-14\" class=\"sk-toggleable__label sk-toggleable__label-arrow\">RandomForestClassifier</label><div class=\"sk-toggleable__content\"><pre>RandomForestClassifier(min_samples_split=250, random_state=42)</pre></div></div></div></div></div></div></div>"
      ],
      "text/plain": [
       "Pipeline(steps=[('preprocessor',\n",
       "                 ColumnTransformer(remainder='passthrough',\n",
       "                                   transformers=[('cat',\n",
       "                                                  OneHotEncoder(handle_unknown='ignore'),\n",
       "                                                  ['State', 'BankState',\n",
       "                                                   'LowDoc', 'NewExist',\n",
       "                                                   'UrbanRural',\n",
       "                                                   'have_franchise', 'sector',\n",
       "                                                   'in_recession'])])),\n",
       "                ('decisiontree',\n",
       "                 RandomForestClassifier(min_samples_split=250,\n",
       "                                        random_state=42))])"
      ]
     },
     "execution_count": 23,
     "metadata": {},
     "output_type": "execute_result"
    }
   ],
   "source": [
    "pipe.fit(X_train,y_train)"
   ]
  },
  {
   "cell_type": "code",
   "execution_count": 24,
   "metadata": {},
   "outputs": [
    {
     "name": "stdout",
     "output_type": "stream",
     "text": [
      "0.9256276502785984\n",
      "0.9230367680435769\n"
     ]
    }
   ],
   "source": [
    "print(pipe.score(X_train,y_train))\n",
    "print(pipe.score(X_test,y_test))"
   ]
  },
  {
   "cell_type": "code",
   "execution_count": 25,
   "metadata": {},
   "outputs": [
    {
     "data": {
      "image/png": "[encoded data removed]",
      "text/plain": [
       "<Figure size 1500x1000 with 1 Axes>"
      ]
     },
     "metadata": {},
     "output_type": "display_data"
    }
   ],
   "source": [
    "importances = pipe[-1].feature_importances_\n",
    "std = np.std([tree.feature_importances_ for tree in pipe[-1].estimators_], axis=0)\n",
    "\n",
    "forest_importances = pd.DataFrame({\"feature_importances\":importances,\"std\":std},index=pipe[0].get_feature_names_out())\n",
    "forest_importances.sort_values(by=\"feature_importances\",ascending=False,inplace=True)\n",
    "forest_importances = forest_importances.head(20)\n",
    "\n",
    "fig, ax = plt.subplots(figsize=(15,10))\n",
    "forest_importances[\"feature_importances\"].plot.bar(yerr=forest_importances[\"std\"], ax=ax)\n",
    "ax.set_title(\"Feature importances using MDI\")\n",
    "ax.set_ylabel(\"Mean decrease in impurity\")\n",
    "fig.tight_layout()"
   ]
  },
  {
   "cell_type": "code",
   "execution_count": 26,
   "metadata": {},
   "outputs": [
    {
     "name": "stdout",
     "output_type": "stream",
     "text": [
      "              precision    recall  f1-score   support\n",
      "\n",
      "           0       0.93      0.98      0.96    654860\n",
      "           1       0.88      0.66      0.76    138217\n",
      "\n",
      "    accuracy                           0.93    793077\n",
      "   macro avg       0.91      0.82      0.86    793077\n",
      "weighted avg       0.92      0.93      0.92    793077\n",
      "\n"
     ]
    }
   ],
   "source": [
    "from sklearn.metrics import classification_report\n",
    "\n",
    "print(classification_report(y_true=y_train,y_pred=pipe.predict(X_train)))"
   ]
  },
  {
   "cell_type": "code",
   "execution_count": 27,
   "metadata": {},
   "outputs": [
    {
     "name": "stdout",
     "output_type": "stream",
     "text": [
      "              precision    recall  f1-score   support\n",
      "\n",
      "           0       0.93      0.98      0.95     72763\n",
      "           1       0.87      0.65      0.75     15357\n",
      "\n",
      "    accuracy                           0.92     88120\n",
      "   macro avg       0.90      0.82      0.85     88120\n",
      "weighted avg       0.92      0.92      0.92     88120\n",
      "\n"
     ]
    }
   ],
   "source": [
    "print(classification_report(y_true=y_test,y_pred=pipe.predict(X_test)))"
   ]
  },
  {
   "cell_type": "code",
   "execution_count": 28,
   "metadata": {},
   "outputs": [
    {
     "data": {
      "image/png": "[encoded data removed]",
      "text/plain": [
       "<Figure size 640x480 with 2 Axes>"
      ]
     },
     "metadata": {},
     "output_type": "display_data"
    }
   ],
   "source": [
    "from sklearn.metrics import confusion_matrix, ConfusionMatrixDisplay\n",
    "\n",
    "cm = confusion_matrix(y_true=y_train,y_pred=pipe.predict(X_train))\n",
    "disp = ConfusionMatrixDisplay(confusion_matrix=cm,\n",
    "                              display_labels=pipe[-1].classes_)\n",
    "disp.plot()\n",
    "\n",
    "plt.show()\n"
   ]
  },
  {
   "cell_type": "code",
   "execution_count": 29,
   "metadata": {},
   "outputs": [
    {
     "data": {
      "image/png": "[encoded data removed]",
      "text/plain": [
       "<Figure size 640x480 with 2 Axes>"
      ]
     },
     "metadata": {},
     "output_type": "display_data"
    }
   ],
   "source": [
    "cm = confusion_matrix(y_true=y_test,y_pred=pipe.predict(X_test))\n",
    "disp = ConfusionMatrixDisplay(confusion_matrix=cm,\n",
    "                              display_labels=pipe[-1].classes_)\n",
    "disp.plot()\n",
    "\n",
    "plt.show()\n"
   ]
  },
  {
   "cell_type": "code",
   "execution_count": 30,
   "metadata": {},
   "outputs": [],
   "source": [
    "# train_sizes, train_scores, test_scores = learning_curve(pipe,X_train,y_train,cv=3,train_sizes=np.linspace(0.1, 1.0, 50))                                    \n",
    "                                           \n",
    "# plt.plot(train_sizes, train_scores.mean(axis=1), label='train')\n",
    "# plt.plot(train_sizes, test_scores.mean(axis=1), label='validation')\n",
    "# plt.xlabel('train_sizes')\n",
    "# plt.legend()\n",
    "# plt.show()"
   ]
  },
  {
   "cell_type": "code",
   "execution_count": 31,
   "metadata": {},
   "outputs": [],
   "source": [
    "# from sklearn import tree\n",
    "# import graphviz \n",
    "\n",
    "# dot_data = tree.export_graphviz(pipe[-1].estimators_[0],out_file=None, \n",
    "#                      feature_names=new_columns,  \n",
    "#                       filled=True, rounded=True,\n",
    "#                       class_names=[\"False\",\"True\"],\n",
    "#                      special_characters=True)  \n",
    "# graph = graphviz.Source(dot_data)\n",
    "# graph.render(\"model_test\",format=\"pdf\")\n",
    "# graph"
   ]
  },
  {
   "cell_type": "code",
   "execution_count": 32,
   "metadata": {},
   "outputs": [],
   "source": [
    "from sklearn.preprocessing import StandardScaler\n",
    "from sklearn.linear_model import LogisticRegression\n",
    "\n",
    "preprocessor = ColumnTransformer(\n",
    "    transformers=[\n",
    "        ('cat', categorical_transformer, categorial_features),\n",
    "        (\"num\",StandardScaler(),numeric_features)\n",
    "        ]\n",
    ")\n",
    "\n",
    "logisticreg=Pipeline([\n",
    "     ('preprocessor', preprocessor),\n",
    "     ('logisticregression', LogisticRegression(random_state=42,max_iter=10000))\n",
    "     ]\n",
    ")\n"
   ]
  },
  {
   "cell_type": "code",
   "execution_count": 33,
   "metadata": {},
   "outputs": [
    {
     "data": {
      "text/html": [
       "<style>#sk-container-id-3 {color: black;background-color: white;}#sk-container-id-3 pre{padding: 0;}#sk-container-id-3 div.sk-toggleable {background-color: white;}#sk-container-id-3 label.sk-toggleable__label {cursor: pointer;display: block;width: 100%;margin-bottom: 0;padding: 0.3em;box-sizing: border-box;text-align: center;}#sk-container-id-3 label.sk-toggleable__label-arrow:before {content: \"▸\";float: left;margin-right: 0.25em;color: #696969;}#sk-container-id-3 label.sk-toggleable__label-arrow:hover:before {color: black;}#sk-container-id-3 div.sk-estimator:hover label.sk-toggleable__label-arrow:before {color: black;}#sk-container-id-3 div.sk-toggleable__content {max-height: 0;max-width: 0;overflow: hidden;text-align: left;background-color: #f0f8ff;}#sk-container-id-3 div.sk-toggleable__content pre {margin: 0.2em;color: black;border-radius: 0.25em;background-color: #f0f8ff;}#sk-container-id-3 input.sk-toggleable__control:checked~div.sk-toggleable__content {max-height: 200px;max-width: 100%;overflow: auto;}#sk-container-id-3 input.sk-toggleable__control:checked~label.sk-toggleable__label-arrow:before {content: \"▾\";}#sk-container-id-3 div.sk-estimator input.sk-toggleable__control:checked~label.sk-toggleable__label {background-color: #d4ebff;}#sk-container-id-3 div.sk-label input.sk-toggleable__control:checked~label.sk-toggleable__label {background-color: #d4ebff;}#sk-container-id-3 input.sk-hidden--visually {border: 0;clip: rect(1px 1px 1px 1px);clip: rect(1px, 1px, 1px, 1px);height: 1px;margin: -1px;overflow: hidden;padding: 0;position: absolute;width: 1px;}#sk-container-id-3 div.sk-estimator {font-family: monospace;background-color: #f0f8ff;border: 1px dotted black;border-radius: 0.25em;box-sizing: border-box;margin-bottom: 0.5em;}#sk-container-id-3 div.sk-estimator:hover {background-color: #d4ebff;}#sk-container-id-3 div.sk-parallel-item::after {content: \"\";width: 100%;border-bottom: 1px solid gray;flex-grow: 1;}#sk-container-id-3 div.sk-label:hover label.sk-toggleable__label {background-color: #d4ebff;}#sk-container-id-3 div.sk-serial::before {content: \"\";position: absolute;border-left: 1px solid gray;box-sizing: border-box;top: 0;bottom: 0;left: 50%;z-index: 0;}#sk-container-id-3 div.sk-serial {display: flex;flex-direction: column;align-items: center;background-color: white;padding-right: 0.2em;padding-left: 0.2em;position: relative;}#sk-container-id-3 div.sk-item {position: relative;z-index: 1;}#sk-container-id-3 div.sk-parallel {display: flex;align-items: stretch;justify-content: center;background-color: white;position: relative;}#sk-container-id-3 div.sk-item::before, #sk-container-id-3 div.sk-parallel-item::before {content: \"\";position: absolute;border-left: 1px solid gray;box-sizing: border-box;top: 0;bottom: 0;left: 50%;z-index: -1;}#sk-container-id-3 div.sk-parallel-item {display: flex;flex-direction: column;z-index: 1;position: relative;background-color: white;}#sk-container-id-3 div.sk-parallel-item:first-child::after {align-self: flex-end;width: 50%;}#sk-container-id-3 div.sk-parallel-item:last-child::after {align-self: flex-start;width: 50%;}#sk-container-id-3 div.sk-parallel-item:only-child::after {width: 0;}#sk-container-id-3 div.sk-dashed-wrapped {border: 1px dashed gray;margin: 0 0.4em 0.5em 0.4em;box-sizing: border-box;padding-bottom: 0.4em;background-color: white;}#sk-container-id-3 div.sk-label label {font-family: monospace;font-weight: bold;display: inline-block;line-height: 1.2em;}#sk-container-id-3 div.sk-label-container {text-align: center;}#sk-container-id-3 div.sk-container {/* jupyter's `normalize.less` sets `[hidden] { display: none; }` but bootstrap.min.css set `[hidden] { display: none !important; }` so we also need the `!important` here to be able to override the default hidden behavior on the sphinx rendered scikit-learn.org. See: https://github.com/scikit-learn/scikit-learn/issues/21755 */display: inline-block !important;position: relative;}#sk-container-id-3 div.sk-text-repr-fallback {display: none;}</style><div id=\"sk-container-id-3\" class=\"sk-top-container\"><div class=\"sk-text-repr-fallback\"><pre>Pipeline(steps=[(&#x27;preprocessor&#x27;,\n",
       "                 ColumnTransformer(transformers=[(&#x27;cat&#x27;,\n",
       "                                                  OneHotEncoder(handle_unknown=&#x27;ignore&#x27;),\n",
       "                                                  [&#x27;State&#x27;, &#x27;BankState&#x27;,\n",
       "                                                   &#x27;LowDoc&#x27;, &#x27;NewExist&#x27;,\n",
       "                                                   &#x27;UrbanRural&#x27;,\n",
       "                                                   &#x27;have_franchise&#x27;, &#x27;sector&#x27;,\n",
       "                                                   &#x27;in_recession&#x27;]),\n",
       "                                                 (&#x27;num&#x27;, StandardScaler(),\n",
       "                                                  [&#x27;Term&#x27;, &#x27;NoEmp&#x27;,\n",
       "                                                   &#x27;GrAppv&#x27;])])),\n",
       "                (&#x27;logisticregression&#x27;,\n",
       "                 LogisticRegression(max_iter=10000, random_state=42))])</pre><b>In a Jupyter environment, please rerun this cell to show the HTML representation or trust the notebook. <br />On GitHub, the HTML representation is unable to render, please try loading this page with nbviewer.org.</b></div><div class=\"sk-container\" hidden><div class=\"sk-item sk-dashed-wrapped\"><div class=\"sk-label-container\"><div class=\"sk-label sk-toggleable\"><input class=\"sk-toggleable__control sk-hidden--visually\" id=\"sk-estimator-id-15\" type=\"checkbox\" ><label for=\"sk-estimator-id-15\" class=\"sk-toggleable__label sk-toggleable__label-arrow\">Pipeline</label><div class=\"sk-toggleable__content\"><pre>Pipeline(steps=[(&#x27;preprocessor&#x27;,\n",
       "                 ColumnTransformer(transformers=[(&#x27;cat&#x27;,\n",
       "                                                  OneHotEncoder(handle_unknown=&#x27;ignore&#x27;),\n",
       "                                                  [&#x27;State&#x27;, &#x27;BankState&#x27;,\n",
       "                                                   &#x27;LowDoc&#x27;, &#x27;NewExist&#x27;,\n",
       "                                                   &#x27;UrbanRural&#x27;,\n",
       "                                                   &#x27;have_franchise&#x27;, &#x27;sector&#x27;,\n",
       "                                                   &#x27;in_recession&#x27;]),\n",
       "                                                 (&#x27;num&#x27;, StandardScaler(),\n",
       "                                                  [&#x27;Term&#x27;, &#x27;NoEmp&#x27;,\n",
       "                                                   &#x27;GrAppv&#x27;])])),\n",
       "                (&#x27;logisticregression&#x27;,\n",
       "                 LogisticRegression(max_iter=10000, random_state=42))])</pre></div></div></div><div class=\"sk-serial\"><div class=\"sk-item sk-dashed-wrapped\"><div class=\"sk-label-container\"><div class=\"sk-label sk-toggleable\"><input class=\"sk-toggleable__control sk-hidden--visually\" id=\"sk-estimator-id-16\" type=\"checkbox\" ><label for=\"sk-estimator-id-16\" class=\"sk-toggleable__label sk-toggleable__label-arrow\">preprocessor: ColumnTransformer</label><div class=\"sk-toggleable__content\"><pre>ColumnTransformer(transformers=[(&#x27;cat&#x27;, OneHotEncoder(handle_unknown=&#x27;ignore&#x27;),\n",
       "                                 [&#x27;State&#x27;, &#x27;BankState&#x27;, &#x27;LowDoc&#x27;, &#x27;NewExist&#x27;,\n",
       "                                  &#x27;UrbanRural&#x27;, &#x27;have_franchise&#x27;, &#x27;sector&#x27;,\n",
       "                                  &#x27;in_recession&#x27;]),\n",
       "                                (&#x27;num&#x27;, StandardScaler(),\n",
       "                                 [&#x27;Term&#x27;, &#x27;NoEmp&#x27;, &#x27;GrAppv&#x27;])])</pre></div></div></div><div class=\"sk-parallel\"><div class=\"sk-parallel-item\"><div class=\"sk-item\"><div class=\"sk-label-container\"><div class=\"sk-label sk-toggleable\"><input class=\"sk-toggleable__control sk-hidden--visually\" id=\"sk-estimator-id-17\" type=\"checkbox\" ><label for=\"sk-estimator-id-17\" class=\"sk-toggleable__label sk-toggleable__label-arrow\">cat</label><div class=\"sk-toggleable__content\"><pre>[&#x27;State&#x27;, &#x27;BankState&#x27;, &#x27;LowDoc&#x27;, &#x27;NewExist&#x27;, &#x27;UrbanRural&#x27;, &#x27;have_franchise&#x27;, &#x27;sector&#x27;, &#x27;in_recession&#x27;]</pre></div></div></div><div class=\"sk-serial\"><div class=\"sk-item\"><div class=\"sk-estimator sk-toggleable\"><input class=\"sk-toggleable__control sk-hidden--visually\" id=\"sk-estimator-id-18\" type=\"checkbox\" ><label for=\"sk-estimator-id-18\" class=\"sk-toggleable__label sk-toggleable__label-arrow\">OneHotEncoder</label><div class=\"sk-toggleable__content\"><pre>OneHotEncoder(handle_unknown=&#x27;ignore&#x27;)</pre></div></div></div></div></div></div><div class=\"sk-parallel-item\"><div class=\"sk-item\"><div class=\"sk-label-container\"><div class=\"sk-label sk-toggleable\"><input class=\"sk-toggleable__control sk-hidden--visually\" id=\"sk-estimator-id-19\" type=\"checkbox\" ><label for=\"sk-estimator-id-19\" class=\"sk-toggleable__label sk-toggleable__label-arrow\">num</label><div class=\"sk-toggleable__content\"><pre>[&#x27;Term&#x27;, &#x27;NoEmp&#x27;, &#x27;GrAppv&#x27;]</pre></div></div></div><div class=\"sk-serial\"><div class=\"sk-item\"><div class=\"sk-estimator sk-toggleable\"><input class=\"sk-toggleable__control sk-hidden--visually\" id=\"sk-estimator-id-20\" type=\"checkbox\" ><label for=\"sk-estimator-id-20\" class=\"sk-toggleable__label sk-toggleable__label-arrow\">StandardScaler</label><div class=\"sk-toggleable__content\"><pre>StandardScaler()</pre></div></div></div></div></div></div></div></div><div class=\"sk-item\"><div class=\"sk-estimator sk-toggleable\"><input class=\"sk-toggleable__control sk-hidden--visually\" id=\"sk-estimator-id-21\" type=\"checkbox\" ><label for=\"sk-estimator-id-21\" class=\"sk-toggleable__label sk-toggleable__label-arrow\">LogisticRegression</label><div class=\"sk-toggleable__content\"><pre>LogisticRegression(max_iter=10000, random_state=42)</pre></div></div></div></div></div></div></div>"
      ],
      "text/plain": [
       "Pipeline(steps=[('preprocessor',\n",
       "                 ColumnTransformer(transformers=[('cat',\n",
       "                                                  OneHotEncoder(handle_unknown='ignore'),\n",
       "                                                  ['State', 'BankState',\n",
       "                                                   'LowDoc', 'NewExist',\n",
       "                                                   'UrbanRural',\n",
       "                                                   'have_franchise', 'sector',\n",
       "                                                   'in_recession']),\n",
       "                                                 ('num', StandardScaler(),\n",
       "                                                  ['Term', 'NoEmp',\n",
       "                                                   'GrAppv'])])),\n",
       "                ('logisticregression',\n",
       "                 LogisticRegression(max_iter=10000, random_state=42))])"
      ]
     },
     "execution_count": 33,
     "metadata": {},
     "output_type": "execute_result"
    }
   ],
   "source": [
    "logisticreg.fit(X_train,y_train)"
   ]
  },
  {
   "cell_type": "code",
   "execution_count": 34,
   "metadata": {},
   "outputs": [
    {
     "data": {
      "text/plain": [
       "array([1.22646974e-04, 1.76533075e-04, 1.94556210e-04, 7.55833166e-05,\n",
       "       6.60343397e-05, 1.47926161e-04, 6.78417321e-05, 1.10883968e-04,\n",
       "       1.06583957e-04, 1.35223585e-04, 3.49090388e-05])"
      ]
     },
     "execution_count": 34,
     "metadata": {},
     "output_type": "execute_result"
    }
   ],
   "source": [
    "from sklearn.inspection import permutation_importance\n",
    "\n",
    "\n",
    "result = permutation_importance(logisticreg, X_train, y_train, n_repeats=10,\n",
    "                                random_state=0)\n",
    "result.importances_mean\n",
    "\n",
    "result.importances_std"
   ]
  },
  {
   "cell_type": "code",
   "execution_count": 35,
   "metadata": {},
   "outputs": [],
   "source": [
    "col_name = logisticreg[0].get_feature_names_out()\n",
    "\n",
    "coef = pd.DataFrame(data=logisticreg[-1].coef_.reshape(-1,1), columns=['coefs'], index=col_name)"
   ]
  },
  {
   "cell_type": "code",
   "execution_count": 36,
   "metadata": {},
   "outputs": [
    {
     "data": {
      "text/html": [
       "<div>\n",
       "<style scoped>\n",
       "    .dataframe tbody tr th:only-of-type {\n",
       "        vertical-align: middle;\n",
       "    }\n",
       "\n",
       "    .dataframe tbody tr th {\n",
       "        vertical-align: top;\n",
       "    }\n",
       "\n",
       "    .dataframe thead th {\n",
       "        text-align: right;\n",
       "    }\n",
       "</style>\n",
       "<table border=\"1\" class=\"dataframe\">\n",
       "  <thead>\n",
       "    <tr style=\"text-align: right;\">\n",
       "      <th></th>\n",
       "      <th>coefs</th>\n",
       "    </tr>\n",
       "  </thead>\n",
       "  <tbody>\n",
       "    <tr>\n",
       "      <th>cat__BankState_SC</th>\n",
       "      <td>1.479309</td>\n",
       "    </tr>\n",
       "    <tr>\n",
       "      <th>cat__BankState_PR</th>\n",
       "      <td>1.298303</td>\n",
       "    </tr>\n",
       "    <tr>\n",
       "      <th>cat__BankState_VA</th>\n",
       "      <td>0.990511</td>\n",
       "    </tr>\n",
       "    <tr>\n",
       "      <th>cat__BankState_DC</th>\n",
       "      <td>0.909822</td>\n",
       "    </tr>\n",
       "    <tr>\n",
       "      <th>cat__BankState_CA</th>\n",
       "      <td>0.883806</td>\n",
       "    </tr>\n",
       "    <tr>\n",
       "      <th>cat__State_GA</th>\n",
       "      <td>0.759671</td>\n",
       "    </tr>\n",
       "    <tr>\n",
       "      <th>cat__BankState_CT</th>\n",
       "      <td>0.679267</td>\n",
       "    </tr>\n",
       "    <tr>\n",
       "      <th>cat__State_MS</th>\n",
       "      <td>0.649080</td>\n",
       "    </tr>\n",
       "    <tr>\n",
       "      <th>cat__BankState_WV</th>\n",
       "      <td>0.643476</td>\n",
       "    </tr>\n",
       "    <tr>\n",
       "      <th>cat__State_AR</th>\n",
       "      <td>0.609497</td>\n",
       "    </tr>\n",
       "    <tr>\n",
       "      <th>cat__BankState_SD</th>\n",
       "      <td>0.584286</td>\n",
       "    </tr>\n",
       "    <tr>\n",
       "      <th>cat__State_NV</th>\n",
       "      <td>0.523830</td>\n",
       "    </tr>\n",
       "    <tr>\n",
       "      <th>cat__BankState_NC</th>\n",
       "      <td>0.513119</td>\n",
       "    </tr>\n",
       "    <tr>\n",
       "      <th>cat__State_FL</th>\n",
       "      <td>0.513047</td>\n",
       "    </tr>\n",
       "    <tr>\n",
       "      <th>cat__State_TN</th>\n",
       "      <td>0.501337</td>\n",
       "    </tr>\n",
       "    <tr>\n",
       "      <th>cat__BankState_OR</th>\n",
       "      <td>0.456688</td>\n",
       "    </tr>\n",
       "    <tr>\n",
       "      <th>cat__BankState_TX</th>\n",
       "      <td>0.423306</td>\n",
       "    </tr>\n",
       "    <tr>\n",
       "      <th>cat__sector_Realestate and rental and leasing</th>\n",
       "      <td>0.394144</td>\n",
       "    </tr>\n",
       "    <tr>\n",
       "      <th>cat__State_HI</th>\n",
       "      <td>0.382141</td>\n",
       "    </tr>\n",
       "    <tr>\n",
       "      <th>cat__sector_Accommodation and food services</th>\n",
       "      <td>0.377245</td>\n",
       "    </tr>\n",
       "    <tr>\n",
       "      <th>cat__BankState_FL</th>\n",
       "      <td>0.364785</td>\n",
       "    </tr>\n",
       "    <tr>\n",
       "      <th>cat__State_AZ</th>\n",
       "      <td>0.362522</td>\n",
       "    </tr>\n",
       "    <tr>\n",
       "      <th>cat__State_AL</th>\n",
       "      <td>0.350818</td>\n",
       "    </tr>\n",
       "    <tr>\n",
       "      <th>cat__State_MI</th>\n",
       "      <td>0.309383</td>\n",
       "    </tr>\n",
       "    <tr>\n",
       "      <th>num__GrAppv</th>\n",
       "      <td>0.294456</td>\n",
       "    </tr>\n",
       "    <tr>\n",
       "      <th>cat__sector_Arts, entertainment, and recreation</th>\n",
       "      <td>0.290439</td>\n",
       "    </tr>\n",
       "    <tr>\n",
       "      <th>cat__sector_Retail trade</th>\n",
       "      <td>0.271774</td>\n",
       "    </tr>\n",
       "    <tr>\n",
       "      <th>cat__sector_Sector not known</th>\n",
       "      <td>0.263695</td>\n",
       "    </tr>\n",
       "    <tr>\n",
       "      <th>cat__State_KY</th>\n",
       "      <td>0.259794</td>\n",
       "    </tr>\n",
       "    <tr>\n",
       "      <th>cat__State_CO</th>\n",
       "      <td>0.258100</td>\n",
       "    </tr>\n",
       "  </tbody>\n",
       "</table>\n",
       "</div>"
      ],
      "text/plain": [
       "                                                    coefs\n",
       "cat__BankState_SC                                1.479309\n",
       "cat__BankState_PR                                1.298303\n",
       "cat__BankState_VA                                0.990511\n",
       "cat__BankState_DC                                0.909822\n",
       "cat__BankState_CA                                0.883806\n",
       "cat__State_GA                                    0.759671\n",
       "cat__BankState_CT                                0.679267\n",
       "cat__State_MS                                    0.649080\n",
       "cat__BankState_WV                                0.643476\n",
       "cat__State_AR                                    0.609497\n",
       "cat__BankState_SD                                0.584286\n",
       "cat__State_NV                                    0.523830\n",
       "cat__BankState_NC                                0.513119\n",
       "cat__State_FL                                    0.513047\n",
       "cat__State_TN                                    0.501337\n",
       "cat__BankState_OR                                0.456688\n",
       "cat__BankState_TX                                0.423306\n",
       "cat__sector_Realestate and rental and leasing    0.394144\n",
       "cat__State_HI                                    0.382141\n",
       "cat__sector_Accommodation and food services      0.377245\n",
       "cat__BankState_FL                                0.364785\n",
       "cat__State_AZ                                    0.362522\n",
       "cat__State_AL                                    0.350818\n",
       "cat__State_MI                                    0.309383\n",
       "num__GrAppv                                      0.294456\n",
       "cat__sector_Arts, entertainment, and recreation  0.290439\n",
       "cat__sector_Retail trade                         0.271774\n",
       "cat__sector_Sector not known                     0.263695\n",
       "cat__State_KY                                    0.259794\n",
       "cat__State_CO                                    0.258100"
      ]
     },
     "execution_count": 36,
     "metadata": {},
     "output_type": "execute_result"
    }
   ],
   "source": [
    "coef = coef.sort_values(by=\"coefs\",ascending=False)\n",
    "coef.head(30)"
   ]
  },
  {
   "cell_type": "code",
   "execution_count": 37,
   "metadata": {},
   "outputs": [
    {
     "name": "stdout",
     "output_type": "stream",
     "text": [
      "0.8637509346507338\n",
      "0.8646391284611893\n"
     ]
    }
   ],
   "source": [
    "print(logisticreg.score(X_train,y_train))\n",
    "print(logisticreg.score(X_test,y_test))"
   ]
  }
 ],
 "metadata": {
  "kernelspec": {
   "display_name": "assurance",
   "language": "python",
   "name": "python3"
  },
  "language_info": {
   "codemirror_mode": {
    "name": "ipython",
    "version": 3
   },
   "file_extension": ".py",
   "mimetype": "text/x-python",
   "name": "python",
   "nbconvert_exporter": "python",
   "pygments_lexer": "ipython3",
   "version": "3.9.15"
  },
  "orig_nbformat": 4,
  "vscode": {
   "interpreter": {
    "hash": "9846edfeac92b65469bdbfeec01b8a9379fd828c58cdd5829ef0063339b5426b"
   }
  }
 },
 "nbformat": 4,
 "nbformat_minor": 2
}
